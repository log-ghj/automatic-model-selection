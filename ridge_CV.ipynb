{
  "nbformat": 4,
  "nbformat_minor": 0,
  "metadata": {
    "colab": {
      "name": "ridge_CV.ipynb",
      "provenance": [],
      "collapsed_sections": [],
      "authorship_tag": "ABX9TyP9eTCtvfyt6TKQ6L2hXenj",
      "include_colab_link": true
    },
    "kernelspec": {
      "display_name": "Python 3",
      "name": "python3"
    }
  },
  "cells": [
    {
      "cell_type": "markdown",
      "metadata": {
        "id": "view-in-github",
        "colab_type": "text"
      },
      "source": [
        "<a href=\"https://colab.research.google.com/github/log-ghj/automatic-model-selection/blob/main/ridge_CV.ipynb\" target=\"_parent\"><img src=\"https://colab.research.google.com/assets/colab-badge.svg\" alt=\"Open In Colab\"/></a>"
      ]
    },
    {
      "cell_type": "code",
      "metadata": {
        "colab": {
          "base_uri": "https://localhost:8080/"
        },
        "id": "VVI-JzXunKN8",
        "outputId": "2315afc2-a763-4022-b577-f26c74896fa2"
      },
      "source": [
        "import numpy as np\r\n",
        "import pandas as pd\r\n",
        "from statsmodels.tools.tools import add_constant\r\n",
        "from sklearn.linear_model import Ridge\r\n",
        "import scipy\r\n",
        "from sklearn.model_selection import cross_val_score\r\n",
        "from sklearn.metrics import mean_squared_error\r\n",
        "from sklearn.preprocessing import PolynomialFeatures"
      ],
      "execution_count": 1,
      "outputs": [
        {
          "output_type": "stream",
          "text": [
            "/usr/local/lib/python3.6/dist-packages/statsmodels/tools/_testing.py:19: FutureWarning: pandas.util.testing is deprecated. Use the functions in the public API at pandas.testing instead.\n",
            "  import pandas.util.testing as tm\n"
          ],
          "name": "stderr"
        }
      ]
    },
    {
      "cell_type": "code",
      "metadata": {
        "id": "6l9mi1h0nPEB"
      },
      "source": [
        "#Read the data\r\n",
        "df = pd.read_csv('https://raw.githubusercontent.com/ageron/handson-ml/master/datasets/housing/housing.csv').dropna()\r\n",
        "\r\n",
        "#Convert number of rooms into per person values\r\n",
        "df[\"total_rooms_pp\"] = df[\"total_rooms\"]/df[\"population\"]\r\n",
        "df[\"total_bedrooms_pp\"] = df[\"total_bedrooms\"]/df[\"population\"]\r\n",
        "#Average hosuehold size\r\n",
        "df[\"household_size\"] = df[\"population\"]/df[\"households\"]\r\n",
        "#Drop some variables\r\n",
        "df=df.drop([\"total_rooms\", \"total_bedrooms\", \"households\"], axis=1)\r\n",
        "\r\n",
        "#Make the categorical variable into a set of dummies\r\n",
        "xx = pd.get_dummies(df.ocean_proximity)\r\n",
        "df = pd.concat([df, xx], axis=1, sort=False)\r\n",
        "del df[\"ocean_proximity\"]"
      ],
      "execution_count": 2,
      "outputs": []
    },
    {
      "cell_type": "code",
      "metadata": {
        "id": "KmsTIevG6xN1"
      },
      "source": [
        "#Cluster geolocations - determine the optimal number of clusters\r\n",
        "from sklearn import preprocessing, cluster\r\n",
        "X = df[[\"latitude\",\"longitude\"]]\r\n",
        "max_k = 10\r\n",
        "## iterations\r\n",
        "distortions = [] \r\n",
        "for i in range(1, max_k+1):\r\n",
        "    if len(X) >= i:\r\n",
        "       model = cluster.KMeans(n_clusters=i, init='k-means++', max_iter=300, n_init=10, random_state=0)\r\n",
        "       model.fit(X)\r\n",
        "       distortions.append(model.inertia_)\r\n",
        "## best k: the lowest derivative\r\n",
        "k = [i*100 for i in np.diff(distortions,2)].index(min([i*100 for i \r\n",
        "     in np.diff(distortions,2)]))"
      ],
      "execution_count": 3,
      "outputs": []
    },
    {
      "cell_type": "code",
      "metadata": {
        "colab": {
          "base_uri": "https://localhost:8080/"
        },
        "id": "_OZw09Xz6lnD",
        "outputId": "a0088af0-3632-4127-f2ea-a3fecc672915"
      },
      "source": [
        "#Cluster geolocations - create clusters\r\n",
        "import scipy.cluster\r\n",
        "k = 6\r\n",
        "model = cluster.KMeans(n_clusters=k, init='k-means++')\r\n",
        "X = df[[\"latitude\",\"longitude\"]]\r\n",
        "# clustering\r\n",
        "df_X = X.copy()\r\n",
        "df_X[\"cluster\"] = model.fit_predict(X)\r\n",
        "# find real centroids\r\n",
        "closest, distances = scipy.cluster.vq.vq(model.cluster_centers_, df_X.drop(\"cluster\", axis=1).values)\r\n",
        "df_X[\"centroids\"] = 0\r\n",
        "for i in closest:\r\n",
        "    df_X[\"centroids\"].iloc[i] = 1\r\n",
        "# add clustering info to the original dataset\r\n",
        "df[[\"cluster\"]] = df_X[[\"cluster\"]]"
      ],
      "execution_count": 4,
      "outputs": [
        {
          "output_type": "stream",
          "text": [
            "/usr/local/lib/python3.6/dist-packages/pandas/core/indexing.py:670: SettingWithCopyWarning: \n",
            "A value is trying to be set on a copy of a slice from a DataFrame\n",
            "\n",
            "See the caveats in the documentation: https://pandas.pydata.org/pandas-docs/stable/user_guide/indexing.html#returning-a-view-versus-a-copy\n",
            "  iloc._setitem_with_indexer(indexer, value)\n"
          ],
          "name": "stderr"
        }
      ]
    },
    {
      "cell_type": "code",
      "metadata": {
        "id": "N6AlG40707d8"
      },
      "source": [
        "from sklearn.base import BaseEstimator \r\n",
        "from sklearn.base import RegressorMixin"
      ],
      "execution_count": 5,
      "outputs": []
    },
    {
      "cell_type": "code",
      "metadata": {
        "id": "VjokN-kV087j"
      },
      "source": [
        "class self_coded_ridge(BaseEstimator, RegressorMixin):\r\n",
        "    def __init__(self, λ=1, **model_hyper_parameters):\r\n",
        "        \"\"\"\r\n",
        "        \"\"\"\r\n",
        "        super().__init__()\r\n",
        "        self.λ = λ\r\n",
        "        self.X_train = None\r\n",
        "        # fitted parameters, initialized to None\r\n",
        "        self.params = None\r\n",
        "\r\n",
        "    def set_params(self, **params):\r\n",
        "        \"\"\"\r\n",
        "        \"\"\"\r\n",
        "        if not params:\r\n",
        "            # Simple optimization to gain speed (inspect is slow)\r\n",
        "            return self\r\n",
        "        valid_params = self.get_params(deep=True)\r\n",
        "\r\n",
        "        nested_params = defaultdict(dict)  # grouped by prefix\r\n",
        "        for key, value in params.items():\r\n",
        "            key, delim, sub_key = key.partition('__')\r\n",
        "            if key not in valid_params:\r\n",
        "                raise ValueError('Invalid parameter %s for estimator %s. '\r\n",
        "                                 'Check the list of available parameters '\r\n",
        "                                 'with `estimator.get_params().keys()`.' %\r\n",
        "                                 (key, self))\r\n",
        "\r\n",
        "            if delim:\r\n",
        "                nested_params[key][sub_key] = value\r\n",
        "            else:\r\n",
        "                setattr(self, key, value)\r\n",
        "                valid_params[key] = value\r\n",
        "\r\n",
        "        for key, sub_params in nested_params.items():\r\n",
        "            valid_params[key].set_params(**sub_params)\r\n",
        "\r\n",
        "        return self\r\n",
        "\r\n",
        "    def fit(self, X_train, y_train):\r\n",
        "        \"\"\"\r\n",
        "        \"\"\"\r\n",
        "        X_train, y_train, λ = np.asarray(add_constant(X_train, prepend=True)), np.asarray(y_train), self.λ \r\n",
        "        self.X_train = X_train\r\n",
        "        XX = X_train.T@X_train\r\n",
        "        β = np.linalg.inv(XX+λ*np.eye(N=len(XX)))@X_train.T@y_train\r\n",
        "        self.params = β\r\n",
        "        return self.params\r\n",
        "\r\n",
        "    def predict(self, X_test):\r\n",
        "        β = self.params\r\n",
        "        return X_test@β\r\n",
        "\r\n",
        "    def get_params(self, deep = False):\r\n",
        "        return {'λ':self.λ}"
      ],
      "execution_count": 6,
      "outputs": []
    },
    {
      "cell_type": "code",
      "metadata": {
        "id": "U6vaVYmT5uNJ"
      },
      "source": [
        "# Define a function that does CV on a grid to find optimal value of the hyperparameter\r\n",
        "def ridge_self_coded(grid,X,y):\r\n",
        "  coefs = []\r\n",
        "  ics = []\r\n",
        "\r\n",
        "  for a in grid:\r\n",
        "    ridge = self_coded_ridge(a)\r\n",
        "    ridge.fit(X, y)\r\n",
        "    coefs.append(ridge.params)\r\n",
        "    k=10 #k-fold CV\r\n",
        "    scores = cross_val_score(ridge, X, y, cv=k, scoring='neg_mean_squared_error')\r\n",
        "    RMSE = np.sqrt(sum(abs(scores))/k)\r\n",
        "    ics.append(RMSE)\r\n",
        "  opt = ics.index(min(ics))\r\n",
        "  return coefs[opt], grid[opt], ics[opt]"
      ],
      "execution_count": 7,
      "outputs": []
    },
    {
      "cell_type": "code",
      "metadata": {
        "id": "3Y7cfxwA37av"
      },
      "source": [
        "# Create a similar function for the pre-existing sklearn ridge for comparison\r\n",
        "def ridge_sklearn(lambdas, X, y):\r\n",
        "  ridge = Ridge(fit_intercept=False, normalize=False) # do not use sklearn's normalization as it divides by L2 and not std.\r\n",
        "  coefs = []\r\n",
        "  ics = []\r\n",
        "\r\n",
        "  for a in lambdas:\r\n",
        "    ridge.set_params(alpha = a)\r\n",
        "    ridge.fit(X, y)\r\n",
        "    coefs.append(ridge.coef_)\r\n",
        "    k=10 #k-fold CV\r\n",
        "    scores = cross_val_score(ridge, X, y, cv=k, scoring='neg_mean_squared_error')\r\n",
        "    RMSE = np.sqrt(sum(abs(scores))/k)\r\n",
        "    ics.append(RMSE)\r\n",
        "  opt = ics.index(min(ics))\r\n",
        "  return coefs[opt], lambdas[opt], ics[opt]"
      ],
      "execution_count": 8,
      "outputs": []
    },
    {
      "cell_type": "code",
      "metadata": {
        "id": "07uWOJvO6qTZ"
      },
      "source": [
        "# create grid of lambdas\r\n",
        "# doing what is called naive implementation in the slides -> max value of grid chosen\r\n",
        "# efficient way is through SVD -> left to do\r\n",
        "grid = 10**np.linspace(4,-2,100)*0.5\r\n",
        "\r\n",
        "# split l.h.s, and r.h.s.\r\n",
        "X = df.drop(['median_house_value'], axis=1)\r\n",
        "y = df.median_house_value\r\n",
        "\r\n",
        "# normalize data\r\n",
        "X = (X-X.mean())/X.std()\r\n",
        "y = y-y.mean()\r\n",
        "\r\n",
        "poly = PolynomialFeatures(2)\r\n",
        "X = poly.fit_transform(X)"
      ],
      "execution_count": 9,
      "outputs": []
    },
    {
      "cell_type": "code",
      "metadata": {
        "colab": {
          "base_uri": "https://localhost:8080/"
        },
        "id": "v06GkpC66a-1",
        "outputId": "9222d0ad-d2bd-4d26-d436-339804c1ba5a"
      },
      "source": [
        "X.shape"
      ],
      "execution_count": 10,
      "outputs": [
        {
          "output_type": "execute_result",
          "data": {
            "text/plain": [
              "(20433, 120)"
            ]
          },
          "metadata": {
            "tags": []
          },
          "execution_count": 10
        }
      ]
    },
    {
      "cell_type": "code",
      "metadata": {
        "colab": {
          "base_uri": "https://localhost:8080/"
        },
        "id": "61S1Ef4WjHIo",
        "outputId": "9df029d7-6a85-4782-c111-b4e7e3401508"
      },
      "source": [
        "result_self_coded = ridge_self_coded(grid, X, y)\r\n",
        "result_self_coded"
      ],
      "execution_count": 11,
      "outputs": [
        {
          "output_type": "execute_result",
          "data": {
            "text/plain": [
              "(array([ 3.33033812e+03, -1.41220664e+04, -4.79302242e+03,  7.39762657e+03,\n",
              "         3.47453533e+03,  5.14278220e+04,  2.48427000e+04,  2.54513730e+04,\n",
              "        -4.48480008e+03,  1.01805154e+04, -1.12631989e+04, -5.17523724e+01,\n",
              "        -5.53317707e+02,  1.08593797e+03, -1.51575278e+04, -4.05013795e+03,\n",
              "         5.82543951e+03, -1.48222432e+03,  1.44774408e+03, -4.10896198e+03,\n",
              "         9.87685644e+02, -7.01634649e+02, -7.48573704e+02,  2.37254845e+03,\n",
              "        -2.88739528e+02,  3.39129653e+02, -2.36057609e+03, -9.18050673e+02,\n",
              "         2.54425496e+03, -4.16592047e+03, -4.93154649e+03,  2.09021027e+03,\n",
              "        -4.31075656e+03, -1.68009652e+03, -1.15629671e+03, -1.16341257e+03,\n",
              "         1.94398863e+02,  1.51811035e+03,  2.71197267e+01, -3.37177514e+03,\n",
              "         7.63722411e+02,  2.83610707e+03,  2.62115755e+03,  2.92185141e+03,\n",
              "         1.80248254e+03,  1.64218008e+03,  9.11066623e+03, -1.49687208e+03,\n",
              "        -1.42621421e+03, -1.87045620e+03, -2.12275424e+02,  5.12605499e+03,\n",
              "        -8.42830649e+01, -2.27337415e+03,  1.53872132e+02,  8.68330559e+02,\n",
              "        -6.20177541e+02,  2.47114226e+03,  9.37680913e+02, -3.40643780e+02,\n",
              "        -1.39028325e+03,  4.15722956e+02,  2.73848611e+03, -1.50800085e+02,\n",
              "        -1.23923557e+03, -1.40571910e+03,  8.51427023e+03, -5.62978319e+03,\n",
              "        -6.15333751e+02, -6.72677986e+02, -3.42861584e+03, -1.91187032e+03,\n",
              "         4.41226224e+03,  1.71466328e+03, -5.02489198e+03,  2.71339037e+03,\n",
              "        -5.05461685e+03, -1.73692190e+03,  1.26367185e+03, -2.22946716e+03,\n",
              "        -4.47295734e+02, -2.36132140e+03,  3.46395108e+03,  1.33761134e+03,\n",
              "         2.05260610e+03, -2.34398169e+03,  6.82527860e+03, -1.04834542e+04,\n",
              "         3.22868803e+02,  6.22415657e+03, -1.40062265e+03, -1.72811179e+03,\n",
              "        -4.45129676e+01, -7.13514863e+02,  5.35798077e+02, -1.51412360e+00,\n",
              "         2.93615557e+02,  3.76711349e+01,  5.99025374e+02,  5.70273327e+03,\n",
              "         1.05248420e+03, -1.59579738e+02, -4.15447365e+03, -6.01681625e+03,\n",
              "         2.67957816e+02, -5.47777349e+03,  1.75968707e+02,  3.55570732e+03,\n",
              "         2.71222461e+03, -3.32792556e+03,  2.31214347e+01,  8.53297113e+00,\n",
              "        -1.71230534e+01,  2.36829010e+02,  1.96067176e+03, -6.23625527e+02,\n",
              "         5.23797351e+03,  5.73950718e+03, -6.96314490e+02, -2.98692555e+03]),\n",
              " 2164.3806405415285,\n",
              " 75112.10888183484)"
            ]
          },
          "metadata": {
            "tags": []
          },
          "execution_count": 11
        }
      ]
    },
    {
      "cell_type": "code",
      "metadata": {
        "id": "Pcdv15pa6s2g",
        "colab": {
          "base_uri": "https://localhost:8080/"
        },
        "outputId": "c09397b8-7ec9-4c9a-f3d1-a64ff3821640"
      },
      "source": [
        "result_sklearn = ridge_sklearn(grid, X, y)\r\n",
        "result_sklearn"
      ],
      "execution_count": 12,
      "outputs": [
        {
          "output_type": "execute_result",
          "data": {
            "text/plain": [
              "(array([ 3.33033812e+03, -1.41220664e+04, -4.79302242e+03,  7.39762657e+03,\n",
              "         3.47453533e+03,  5.14278220e+04,  2.48427000e+04,  2.54513730e+04,\n",
              "        -4.48480008e+03,  1.01805154e+04, -1.12631989e+04, -5.17523724e+01,\n",
              "        -5.53317707e+02,  1.08593797e+03, -1.51575278e+04, -4.05013795e+03,\n",
              "         5.82543951e+03, -1.48222432e+03,  1.44774408e+03, -4.10896198e+03,\n",
              "         9.87685644e+02, -7.01634649e+02, -7.48573704e+02,  2.37254845e+03,\n",
              "        -2.88739528e+02,  3.39129653e+02, -2.36057609e+03, -9.18050673e+02,\n",
              "         2.54425496e+03, -4.16592047e+03, -4.93154649e+03,  2.09021027e+03,\n",
              "        -4.31075656e+03, -1.68009652e+03, -1.15629671e+03, -1.16341257e+03,\n",
              "         1.94398863e+02,  1.51811035e+03,  2.71197267e+01, -3.37177514e+03,\n",
              "         7.63722411e+02,  2.83610707e+03,  2.62115755e+03,  2.92185141e+03,\n",
              "         1.80248254e+03,  1.64218008e+03,  9.11066623e+03, -1.49687208e+03,\n",
              "        -1.42621421e+03, -1.87045620e+03, -2.12275424e+02,  5.12605499e+03,\n",
              "        -8.42830649e+01, -2.27337415e+03,  1.53872132e+02,  8.68330559e+02,\n",
              "        -6.20177541e+02,  2.47114226e+03,  9.37680913e+02, -3.40643780e+02,\n",
              "        -1.39028325e+03,  4.15722956e+02,  2.73848611e+03, -1.50800085e+02,\n",
              "        -1.23923557e+03, -1.40571910e+03,  8.51427023e+03, -5.62978319e+03,\n",
              "        -6.15333751e+02, -6.72677986e+02, -3.42861584e+03, -1.91187032e+03,\n",
              "         4.41226224e+03,  1.71466328e+03, -5.02489198e+03,  2.71339037e+03,\n",
              "        -5.05461685e+03, -1.73692190e+03,  1.26367185e+03, -2.22946716e+03,\n",
              "        -4.47295734e+02, -2.36132140e+03,  3.46395108e+03,  1.33761134e+03,\n",
              "         2.05260610e+03, -2.34398169e+03,  6.82527860e+03, -1.04834542e+04,\n",
              "         3.22868803e+02,  6.22415657e+03, -1.40062265e+03, -1.72811179e+03,\n",
              "        -4.45129676e+01, -7.13514863e+02,  5.35798077e+02, -1.51412360e+00,\n",
              "         2.93615557e+02,  3.76711349e+01,  5.99025374e+02,  5.70273327e+03,\n",
              "         1.05248420e+03, -1.59579738e+02, -4.15447365e+03, -6.01681625e+03,\n",
              "         2.67957816e+02, -5.47777349e+03,  1.75968707e+02,  3.55570732e+03,\n",
              "         2.71222461e+03, -3.32792556e+03,  2.31214347e+01,  8.53297113e+00,\n",
              "        -1.71230534e+01,  2.36829010e+02,  1.96067176e+03, -6.23625527e+02,\n",
              "         5.23797351e+03,  5.73950718e+03, -6.96314490e+02, -2.98692555e+03]),\n",
              " 2164.3806405415285,\n",
              " 75112.10888183521)"
            ]
          },
          "metadata": {
            "tags": []
          },
          "execution_count": 12
        }
      ]
    },
    {
      "cell_type": "code",
      "metadata": {
        "id": "8AgLBgtJP-tT"
      },
      "source": [
        "# instead of the above arbitrarily defined grid, find a grid with the help of svd\r\n",
        "# from ols to ridge D**-1 is multiplied by (D**2+λ)**(-1) D**2 (1)\r\n",
        "# df of ols are 120 (with poly) -> find λ s.t. (1) = ~120/~0\r\n",
        "import scipy\r\n",
        "u,s,v = scipy.linalg.svd(X)"
      ],
      "execution_count": 13,
      "outputs": []
    },
    {
      "cell_type": "code",
      "metadata": {
        "id": "m-hIWkxZLSkN",
        "colab": {
          "base_uri": "https://localhost:8080/"
        },
        "outputId": "93f7e2b8-407d-4934-9068-c8cd202cc538"
      },
      "source": [
        "sum(s**2/(s**2))"
      ],
      "execution_count": 14,
      "outputs": [
        {
          "output_type": "execute_result",
          "data": {
            "text/plain": [
              "120.0"
            ]
          },
          "metadata": {
            "tags": []
          },
          "execution_count": 14
        }
      ]
    },
    {
      "cell_type": "code",
      "metadata": {
        "id": "7DJ1rhkT8UDb"
      },
      "source": [
        "x1 = 1e-30\r\n",
        "x2 = 1_000_000_000"
      ],
      "execution_count": 15,
      "outputs": []
    },
    {
      "cell_type": "code",
      "metadata": {
        "id": "JTJdr-gL0TSn",
        "colab": {
          "base_uri": "https://localhost:8080/"
        },
        "outputId": "bb119238-0e9f-4152-9517-9be838bc62c1"
      },
      "source": [
        "print(sum(s**2/(s**2+x1)),sum(s**2/(s**2+x2)))"
      ],
      "execution_count": 16,
      "outputs": [
        {
          "output_type": "stream",
          "text": [
            "119.99990469236103 0.2999010958885242\n"
          ],
          "name": "stdout"
        }
      ]
    },
    {
      "cell_type": "code",
      "metadata": {
        "id": "lS6VYsuxQ5hB"
      },
      "source": [
        "# define a new grid with above valuees\r\n",
        "new_grid = np.linspace(x1,x2,100)"
      ],
      "execution_count": 17,
      "outputs": []
    },
    {
      "cell_type": "code",
      "metadata": {
        "id": "g80EfgO69nfm"
      },
      "source": [
        "new_grid = np.append(new_grid,result_self_coded[1])"
      ],
      "execution_count": 18,
      "outputs": []
    },
    {
      "cell_type": "code",
      "metadata": {
        "colab": {
          "base_uri": "https://localhost:8080/"
        },
        "id": "fhq6W50Rbiw3",
        "outputId": "4fbaf9e5-ec67-4542-820f-3b8c9540c35e"
      },
      "source": [
        "ridge_self_coded(new_grid, X, y)"
      ],
      "execution_count": 19,
      "outputs": [
        {
          "output_type": "execute_result",
          "data": {
            "text/plain": [
              "(array([ 3.33033812e+03, -1.41220664e+04, -4.79302242e+03,  7.39762657e+03,\n",
              "         3.47453533e+03,  5.14278220e+04,  2.48427000e+04,  2.54513730e+04,\n",
              "        -4.48480008e+03,  1.01805154e+04, -1.12631989e+04, -5.17523724e+01,\n",
              "        -5.53317707e+02,  1.08593797e+03, -1.51575278e+04, -4.05013795e+03,\n",
              "         5.82543951e+03, -1.48222432e+03,  1.44774408e+03, -4.10896198e+03,\n",
              "         9.87685644e+02, -7.01634649e+02, -7.48573704e+02,  2.37254845e+03,\n",
              "        -2.88739528e+02,  3.39129653e+02, -2.36057609e+03, -9.18050673e+02,\n",
              "         2.54425496e+03, -4.16592047e+03, -4.93154649e+03,  2.09021027e+03,\n",
              "        -4.31075656e+03, -1.68009652e+03, -1.15629671e+03, -1.16341257e+03,\n",
              "         1.94398863e+02,  1.51811035e+03,  2.71197267e+01, -3.37177514e+03,\n",
              "         7.63722411e+02,  2.83610707e+03,  2.62115755e+03,  2.92185141e+03,\n",
              "         1.80248254e+03,  1.64218008e+03,  9.11066623e+03, -1.49687208e+03,\n",
              "        -1.42621421e+03, -1.87045620e+03, -2.12275424e+02,  5.12605499e+03,\n",
              "        -8.42830649e+01, -2.27337415e+03,  1.53872132e+02,  8.68330559e+02,\n",
              "        -6.20177541e+02,  2.47114226e+03,  9.37680913e+02, -3.40643780e+02,\n",
              "        -1.39028325e+03,  4.15722956e+02,  2.73848611e+03, -1.50800085e+02,\n",
              "        -1.23923557e+03, -1.40571910e+03,  8.51427023e+03, -5.62978319e+03,\n",
              "        -6.15333751e+02, -6.72677986e+02, -3.42861584e+03, -1.91187032e+03,\n",
              "         4.41226224e+03,  1.71466328e+03, -5.02489198e+03,  2.71339037e+03,\n",
              "        -5.05461685e+03, -1.73692190e+03,  1.26367185e+03, -2.22946716e+03,\n",
              "        -4.47295734e+02, -2.36132140e+03,  3.46395108e+03,  1.33761134e+03,\n",
              "         2.05260610e+03, -2.34398169e+03,  6.82527860e+03, -1.04834542e+04,\n",
              "         3.22868803e+02,  6.22415657e+03, -1.40062265e+03, -1.72811179e+03,\n",
              "        -4.45129676e+01, -7.13514863e+02,  5.35798077e+02, -1.51412360e+00,\n",
              "         2.93615557e+02,  3.76711349e+01,  5.99025374e+02,  5.70273327e+03,\n",
              "         1.05248420e+03, -1.59579738e+02, -4.15447365e+03, -6.01681625e+03,\n",
              "         2.67957816e+02, -5.47777349e+03,  1.75968707e+02,  3.55570732e+03,\n",
              "         2.71222461e+03, -3.32792556e+03,  2.31214347e+01,  8.53297113e+00,\n",
              "        -1.71230534e+01,  2.36829010e+02,  1.96067176e+03, -6.23625527e+02,\n",
              "         5.23797351e+03,  5.73950718e+03, -6.96314490e+02, -2.98692555e+03]),\n",
              " 2164.3806405415285,\n",
              " 75112.10888183484)"
            ]
          },
          "metadata": {
            "tags": []
          },
          "execution_count": 19
        }
      ]
    },
    {
      "cell_type": "code",
      "metadata": {
        "colab": {
          "base_uri": "https://localhost:8080/"
        },
        "id": "GjNNdcTKc2UE",
        "outputId": "d785432f-7d96-4656-9cd3-2b37aaf6d19c"
      },
      "source": [
        "ridge_sklearn(new_grid, X, y)"
      ],
      "execution_count": 20,
      "outputs": [
        {
          "output_type": "execute_result",
          "data": {
            "text/plain": [
              "(array([ 3.33033812e+03, -1.41220664e+04, -4.79302242e+03,  7.39762657e+03,\n",
              "         3.47453533e+03,  5.14278220e+04,  2.48427000e+04,  2.54513730e+04,\n",
              "        -4.48480008e+03,  1.01805154e+04, -1.12631989e+04, -5.17523724e+01,\n",
              "        -5.53317707e+02,  1.08593797e+03, -1.51575278e+04, -4.05013795e+03,\n",
              "         5.82543951e+03, -1.48222432e+03,  1.44774408e+03, -4.10896198e+03,\n",
              "         9.87685644e+02, -7.01634649e+02, -7.48573704e+02,  2.37254845e+03,\n",
              "        -2.88739528e+02,  3.39129653e+02, -2.36057609e+03, -9.18050673e+02,\n",
              "         2.54425496e+03, -4.16592047e+03, -4.93154649e+03,  2.09021027e+03,\n",
              "        -4.31075656e+03, -1.68009652e+03, -1.15629671e+03, -1.16341257e+03,\n",
              "         1.94398863e+02,  1.51811035e+03,  2.71197267e+01, -3.37177514e+03,\n",
              "         7.63722411e+02,  2.83610707e+03,  2.62115755e+03,  2.92185141e+03,\n",
              "         1.80248254e+03,  1.64218008e+03,  9.11066623e+03, -1.49687208e+03,\n",
              "        -1.42621421e+03, -1.87045620e+03, -2.12275424e+02,  5.12605499e+03,\n",
              "        -8.42830649e+01, -2.27337415e+03,  1.53872132e+02,  8.68330559e+02,\n",
              "        -6.20177541e+02,  2.47114226e+03,  9.37680913e+02, -3.40643780e+02,\n",
              "        -1.39028325e+03,  4.15722956e+02,  2.73848611e+03, -1.50800085e+02,\n",
              "        -1.23923557e+03, -1.40571910e+03,  8.51427023e+03, -5.62978319e+03,\n",
              "        -6.15333751e+02, -6.72677986e+02, -3.42861584e+03, -1.91187032e+03,\n",
              "         4.41226224e+03,  1.71466328e+03, -5.02489198e+03,  2.71339037e+03,\n",
              "        -5.05461685e+03, -1.73692190e+03,  1.26367185e+03, -2.22946716e+03,\n",
              "        -4.47295734e+02, -2.36132140e+03,  3.46395108e+03,  1.33761134e+03,\n",
              "         2.05260610e+03, -2.34398169e+03,  6.82527860e+03, -1.04834542e+04,\n",
              "         3.22868803e+02,  6.22415657e+03, -1.40062265e+03, -1.72811179e+03,\n",
              "        -4.45129676e+01, -7.13514863e+02,  5.35798077e+02, -1.51412360e+00,\n",
              "         2.93615557e+02,  3.76711349e+01,  5.99025374e+02,  5.70273327e+03,\n",
              "         1.05248420e+03, -1.59579738e+02, -4.15447365e+03, -6.01681625e+03,\n",
              "         2.67957816e+02, -5.47777349e+03,  1.75968707e+02,  3.55570732e+03,\n",
              "         2.71222461e+03, -3.32792556e+03,  2.31214347e+01,  8.53297113e+00,\n",
              "        -1.71230534e+01,  2.36829010e+02,  1.96067176e+03, -6.23625527e+02,\n",
              "         5.23797351e+03,  5.73950718e+03, -6.96314490e+02, -2.98692555e+03]),\n",
              " 2164.3806405415285,\n",
              " 75112.10888183521)"
            ]
          },
          "metadata": {
            "tags": []
          },
          "execution_count": 20
        }
      ]
    },
    {
      "cell_type": "code",
      "metadata": {
        "id": "yzcA3LRp6Lx_"
      },
      "source": [
        ""
      ],
      "execution_count": 20,
      "outputs": []
    }
  ]
}