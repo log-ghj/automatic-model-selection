{
  "nbformat": 4,
  "nbformat_minor": 0,
  "metadata": {
    "colab": {
      "name": "ridge_CV.ipynb",
      "provenance": [],
      "collapsed_sections": [],
      "authorship_tag": "ABX9TyPLnknR+naZpRR9oInHFH7h",
      "include_colab_link": true
    },
    "kernelspec": {
      "display_name": "Python 3",
      "name": "python3"
    }
  },
  "cells": [
    {
      "cell_type": "markdown",
      "metadata": {
        "id": "view-in-github",
        "colab_type": "text"
      },
      "source": [
        "<a href=\"https://colab.research.google.com/github/log-ghj/automatic-model-selection/blob/main/ridge_CV.ipynb\" target=\"_parent\"><img src=\"https://colab.research.google.com/assets/colab-badge.svg\" alt=\"Open In Colab\"/></a>"
      ]
    },
    {
      "cell_type": "code",
      "metadata": {
        "id": "VVI-JzXunKN8"
      },
      "source": [
        "import numpy as np\r\n",
        "import pandas as pd\r\n",
        "from sklearn.linear_model import Ridge\r\n",
        "import scipy\r\n",
        "from sklearn.model_selection import cross_val_score\r\n",
        "from sklearn.metrics import mean_squared_error\r\n",
        "from sklearn.preprocessing import PolynomialFeatures"
      ],
      "execution_count": 18,
      "outputs": []
    },
    {
      "cell_type": "code",
      "metadata": {
        "id": "6l9mi1h0nPEB"
      },
      "source": [
        "#Read the data\r\n",
        "df = pd.read_csv('https://raw.githubusercontent.com/ageron/handson-ml/master/datasets/housing/housing.csv').dropna()\r\n",
        "\r\n",
        "#Convert number of rooms into per person values\r\n",
        "df[\"total_rooms_pp\"] = df[\"total_rooms\"]/df[\"population\"]\r\n",
        "df[\"total_bedrooms_pp\"] = df[\"total_bedrooms\"]/df[\"population\"]\r\n",
        "#Average hosuehold size\r\n",
        "df[\"household_size\"] = df[\"population\"]/df[\"households\"]\r\n",
        "#Drop some variables\r\n",
        "df=df.drop([\"total_rooms\", \"total_bedrooms\", \"households\"], axis=1)\r\n",
        "\r\n",
        "#Make the categorical variable into a set of dummies\r\n",
        "xx = pd.get_dummies(df.ocean_proximity)\r\n",
        "df = pd.concat([df, xx], axis=1, sort=False)\r\n",
        "del df[\"ocean_proximity\"]"
      ],
      "execution_count": 19,
      "outputs": []
    },
    {
      "cell_type": "code",
      "metadata": {
        "id": "KmsTIevG6xN1"
      },
      "source": [
        "#Cluster geolocations - determine the optimal number of clusters\r\n",
        "from sklearn import preprocessing, cluster\r\n",
        "X = df[[\"latitude\",\"longitude\"]]\r\n",
        "max_k = 10\r\n",
        "## iterations\r\n",
        "distortions = [] \r\n",
        "for i in range(1, max_k+1):\r\n",
        "    if len(X) >= i:\r\n",
        "       model = cluster.KMeans(n_clusters=i, init='k-means++', max_iter=300, n_init=10, random_state=0)\r\n",
        "       model.fit(X)\r\n",
        "       distortions.append(model.inertia_)\r\n",
        "## best k: the lowest derivative\r\n",
        "k = [i*100 for i in np.diff(distortions,2)].index(min([i*100 for i \r\n",
        "     in np.diff(distortions,2)]))"
      ],
      "execution_count": 20,
      "outputs": []
    },
    {
      "cell_type": "code",
      "metadata": {
        "colab": {
          "base_uri": "https://localhost:8080/"
        },
        "id": "_OZw09Xz6lnD",
        "outputId": "aa60bf0b-f852-4c73-b4f7-18e8774b695a"
      },
      "source": [
        "#Cluster geolocations - create clusters\r\n",
        "import scipy.cluster\r\n",
        "k = 6\r\n",
        "model = cluster.KMeans(n_clusters=k, init='k-means++')\r\n",
        "X = df[[\"latitude\",\"longitude\"]]\r\n",
        "# clustering\r\n",
        "df_X = X.copy()\r\n",
        "df_X[\"cluster\"] = model.fit_predict(X)\r\n",
        "# find real centroids\r\n",
        "closest, distances = scipy.cluster.vq.vq(model.cluster_centers_, df_X.drop(\"cluster\", axis=1).values)\r\n",
        "df_X[\"centroids\"] = 0\r\n",
        "for i in closest:\r\n",
        "    df_X[\"centroids\"].iloc[i] = 1\r\n",
        "# add clustering info to the original dataset\r\n",
        "df[[\"cluster\"]] = df_X[[\"cluster\"]]"
      ],
      "execution_count": 21,
      "outputs": [
        {
          "output_type": "stream",
          "text": [
            "/usr/local/lib/python3.6/dist-packages/pandas/core/indexing.py:670: SettingWithCopyWarning: \n",
            "A value is trying to be set on a copy of a slice from a DataFrame\n",
            "\n",
            "See the caveats in the documentation: https://pandas.pydata.org/pandas-docs/stable/user_guide/indexing.html#returning-a-view-versus-a-copy\n",
            "  iloc._setitem_with_indexer(indexer, value)\n"
          ],
          "name": "stderr"
        }
      ]
    },
    {
      "cell_type": "code",
      "metadata": {
        "id": "N6AlG40707d8"
      },
      "source": [
        "from sklearn.base import BaseEstimator \r\n",
        "from sklearn.base import RegressorMixin"
      ],
      "execution_count": 22,
      "outputs": []
    },
    {
      "cell_type": "code",
      "metadata": {
        "id": "VjokN-kV087j"
      },
      "source": [
        "class self_coded_ridge(BaseEstimator, RegressorMixin):\r\n",
        "    def __init__(self, λ=1, **model_hyper_parameters):\r\n",
        "        \"\"\"\r\n",
        "        \"\"\"\r\n",
        "        super().__init__()\r\n",
        "        self.λ = λ\r\n",
        "        self.X_train = None\r\n",
        "        # fitted parameters, initialized to None\r\n",
        "        self.params = None\r\n",
        "\r\n",
        "    def set_params(self, **params):\r\n",
        "        \"\"\"\r\n",
        "        \"\"\"\r\n",
        "        if not params:\r\n",
        "            # Simple optimization to gain speed (inspect is slow)\r\n",
        "            return self\r\n",
        "        valid_params = self.get_params(deep=True)\r\n",
        "\r\n",
        "        nested_params = defaultdict(dict)  # grouped by prefix\r\n",
        "        for key, value in params.items():\r\n",
        "            key, delim, sub_key = key.partition('__')\r\n",
        "            if key not in valid_params:\r\n",
        "                raise ValueError('Invalid parameter %s for estimator %s. '\r\n",
        "                                 'Check the list of available parameters '\r\n",
        "                                 'with `estimator.get_params().keys()`.' %\r\n",
        "                                 (key, self))\r\n",
        "\r\n",
        "            if delim:\r\n",
        "                nested_params[key][sub_key] = value\r\n",
        "            else:\r\n",
        "                setattr(self, key, value)\r\n",
        "                valid_params[key] = value\r\n",
        "\r\n",
        "        for key, sub_params in nested_params.items():\r\n",
        "            valid_params[key].set_params(**sub_params)\r\n",
        "\r\n",
        "        return self\r\n",
        "\r\n",
        "    def fit(self, X_train, y_train):\r\n",
        "        \"\"\"\r\n",
        "        \"\"\"\r\n",
        "        X_train, y_train, λ = np.asarray(X_train), np.asarray(y_train), self.λ \r\n",
        "        self.X_train = X_train\r\n",
        "        XX = X_train.T@X_train\r\n",
        "        β = np.linalg.inv(XX+λ*np.eye(N=len(XX)))@X_train.T@y_train\r\n",
        "        self.params = β\r\n",
        "        return self.params\r\n",
        "\r\n",
        "    def predict(self, X_test):\r\n",
        "        β = self.params\r\n",
        "        return X_test@β\r\n",
        "\r\n",
        "    def get_params(self, deep = False):\r\n",
        "        return {'λ':self.λ}"
      ],
      "execution_count": 23,
      "outputs": []
    },
    {
      "cell_type": "code",
      "metadata": {
        "id": "U6vaVYmT5uNJ"
      },
      "source": [
        "# Define a function that does CV on a grid to find optimal value of the hyperparameter\r\n",
        "def ridge_self_coded(grid,X,y):\r\n",
        "  coefs = []\r\n",
        "  ics = []\r\n",
        "\r\n",
        "  for a in grid:\r\n",
        "    ridge = self_coded_ridge(a)\r\n",
        "    ridge.fit(X, y)\r\n",
        "    coefs.append(ridge.params)\r\n",
        "    k=10 #k-fold CV\r\n",
        "    scores = cross_val_score(ridge, X, y, cv=k, scoring='neg_mean_squared_error')\r\n",
        "    RMSE = np.sqrt(sum(abs(scores))/k)\r\n",
        "    ics.append(RMSE)\r\n",
        "  opt = ics.index(min(ics))\r\n",
        "  return coefs[opt], grid[opt], ics[opt]"
      ],
      "execution_count": 24,
      "outputs": []
    },
    {
      "cell_type": "code",
      "metadata": {
        "id": "3Y7cfxwA37av"
      },
      "source": [
        "# Create a similar function for the pre-existing sklearn ridge for comparison\r\n",
        "def ridge_sklearn(lambdas, X, y):\r\n",
        "  ridge = Ridge(fit_intercept=False, normalize=False) # do not use sklearn's normalization as it divides by L2 and not std.\r\n",
        "  coefs = []\r\n",
        "  ics = []\r\n",
        "\r\n",
        "  for a in lambdas:\r\n",
        "    ridge.set_params(alpha = a)\r\n",
        "    ridge.fit(X, y)\r\n",
        "    coefs.append(ridge.coef_)\r\n",
        "    k=10 #k-fold CV\r\n",
        "    scores = cross_val_score(ridge, X, y, cv=k, scoring='neg_mean_squared_error')\r\n",
        "    RMSE = np.sqrt(sum(abs(scores))/k)\r\n",
        "    ics.append(RMSE)\r\n",
        "  opt = ics.index(min(ics))\r\n",
        "  return coefs[opt], lambdas[opt], ics[opt]"
      ],
      "execution_count": 25,
      "outputs": []
    },
    {
      "cell_type": "code",
      "metadata": {
        "id": "07uWOJvO6qTZ"
      },
      "source": [
        "# create grid of lambdas\r\n",
        "# doing what is called naive implementation in the slides -> max value of grid chosen\r\n",
        "# efficient way is through SVD -> left to do\r\n",
        "grid = 10**np.linspace(4,-2,100)*0.5\r\n",
        "\r\n",
        "# split l.h.s, and r.h.s.\r\n",
        "X = df.drop(['median_house_value'], axis=1)\r\n",
        "y = df.median_house_value\r\n",
        "\r\n",
        "# add polynomials\r\n",
        "poly = PolynomialFeatures(2, include_bias=False)\r\n",
        "X = poly.fit_transform(X)\r\n",
        "\r\n",
        "#delete polynomials resulting in 0\r\n",
        "X = np.delete(X,X.mean(axis=0)==0,axis=1)\r\n",
        "\r\n",
        "# normalize data\r\n",
        "X = (X-X.mean(axis=0))/X.std(axis=0)\r\n",
        "y = y-y.mean()"
      ],
      "execution_count": 29,
      "outputs": []
    },
    {
      "cell_type": "code",
      "metadata": {
        "colab": {
          "base_uri": "https://localhost:8080/"
        },
        "id": "v06GkpC66a-1",
        "outputId": "b3862685-c390-4cd4-99cd-853455620a4d"
      },
      "source": [
        "X.shape"
      ],
      "execution_count": 30,
      "outputs": [
        {
          "output_type": "execute_result",
          "data": {
            "text/plain": [
              "(20433, 109)"
            ]
          },
          "metadata": {
            "tags": []
          },
          "execution_count": 30
        }
      ]
    },
    {
      "cell_type": "code",
      "metadata": {
        "colab": {
          "base_uri": "https://localhost:8080/"
        },
        "id": "61S1Ef4WjHIo",
        "outputId": "e67bd55f-9f8d-47d6-9f02-be9bdb636a67"
      },
      "source": [
        "result_self_coded = ridge_self_coded(grid, X, y)\r\n",
        "result_self_coded"
      ],
      "execution_count": 31,
      "outputs": [
        {
          "output_type": "execute_result",
          "data": {
            "text/plain": [
              "(array([-2.13860617e+04, -1.59264425e+04, -4.59055066e+03, -4.90780267e+03,\n",
              "         1.91874117e+04,  4.73261512e+03,  4.97391006e+03,  1.73191239e+03,\n",
              "        -2.95457898e+02,  2.76463998e+03,  8.39484512e+02, -3.69211681e+03,\n",
              "         1.92658516e+01, -3.27139157e+03,  2.08141266e+04,  8.87514157e+03,\n",
              "         4.31663675e+03,  4.12319570e+03, -1.99675489e+04, -4.12663619e+03,\n",
              "        -4.57609627e+03, -1.76004685e+03,  1.39558148e+02, -1.87158892e+03,\n",
              "        -8.35477430e+02,  3.25835012e+03, -1.76078288e+03,  1.49330981e+03,\n",
              "        -1.67017568e+04, -1.16351397e+04, -4.43925998e+03,  1.44554491e+04,\n",
              "        -1.90419723e+02,  2.77527631e+02,  1.07265737e+03, -2.09408785e+03,\n",
              "         7.42055774e+02,  8.36120267e+02, -5.06506086e+03,  4.20223171e+03,\n",
              "         1.73511665e+03,  5.16679166e+03,  8.49320117e+03,  7.19937486e+03,\n",
              "         5.51126642e+03,  2.55550857e+04, -2.21778391e+03, -2.52293466e+03,\n",
              "        -1.00700649e+04, -6.55163565e+02,  9.92251562e+03, -7.95537611e+02,\n",
              "        -1.56936945e+03,  1.70493366e+03,  9.18425543e+03, -5.66021216e+03,\n",
              "         1.03684028e+04, -4.79363286e+02, -2.45925171e+03, -3.07618594e+03,\n",
              "         9.77237916e+02,  2.00967769e+03, -1.74680052e+03, -6.18463388e+02,\n",
              "        -1.08699590e+04,  1.35752024e+04,  2.34085119e+03, -2.56270817e+03,\n",
              "         6.08469224e+03, -2.98504866e+03, -2.88798183e+03,  1.13478079e+04,\n",
              "         6.41737446e+03,  8.92300753e+02,  4.81862907e+03, -5.31413249e+03,\n",
              "        -1.09135807e+04,  3.40332246e+03, -1.23588349e+03, -2.17473598e+02,\n",
              "        -5.36933860e+03,  1.04670927e+04, -2.41043170e+03, -1.28668905e+04,\n",
              "        -5.98053620e+03,  1.86392223e+04, -1.43129681e+04,  1.52296951e+03,\n",
              "         1.23491542e+04,  2.71430187e+02, -5.26286093e+02, -4.88515330e+03,\n",
              "        -5.84867244e+02,  1.97700059e+03, -7.24206201e+02, -1.21345160e+03,\n",
              "         1.35698101e+02,  3.17260722e+03, -2.95457898e+02, -5.02777402e+03,\n",
              "         2.76463998e+03,  6.95381936e+03,  8.39484512e+02,  8.39484512e+02,\n",
              "        -3.69211681e+03, -3.69211681e+03,  1.92658516e+01, -6.82480844e+03,\n",
              "        -8.83396985e+03]), 466.30167344161, 68883.28401161023)"
            ]
          },
          "metadata": {
            "tags": []
          },
          "execution_count": 31
        }
      ]
    },
    {
      "cell_type": "code",
      "metadata": {
        "id": "Pcdv15pa6s2g",
        "colab": {
          "base_uri": "https://localhost:8080/"
        },
        "outputId": "015bfd24-9379-471a-8e2a-38c2e9c512d1"
      },
      "source": [
        "result_sklearn = ridge_sklearn(grid, X, y)\r\n",
        "result_sklearn"
      ],
      "execution_count": 32,
      "outputs": [
        {
          "output_type": "execute_result",
          "data": {
            "text/plain": [
              "(array([-2.13860617e+04, -1.59264425e+04, -4.59055066e+03, -4.90780267e+03,\n",
              "         1.91874117e+04,  4.73261512e+03,  4.97391006e+03,  1.73191239e+03,\n",
              "        -2.95457898e+02,  2.76463998e+03,  8.39484512e+02, -3.69211681e+03,\n",
              "         1.92658516e+01, -3.27139157e+03,  2.08141266e+04,  8.87514157e+03,\n",
              "         4.31663675e+03,  4.12319570e+03, -1.99675489e+04, -4.12663619e+03,\n",
              "        -4.57609627e+03, -1.76004685e+03,  1.39558148e+02, -1.87158892e+03,\n",
              "        -8.35477430e+02,  3.25835012e+03, -1.76078288e+03,  1.49330981e+03,\n",
              "        -1.67017568e+04, -1.16351397e+04, -4.43925998e+03,  1.44554491e+04,\n",
              "        -1.90419723e+02,  2.77527631e+02,  1.07265737e+03, -2.09408785e+03,\n",
              "         7.42055774e+02,  8.36120267e+02, -5.06506086e+03,  4.20223171e+03,\n",
              "         1.73511665e+03,  5.16679166e+03,  8.49320117e+03,  7.19937486e+03,\n",
              "         5.51126642e+03,  2.55550857e+04, -2.21778391e+03, -2.52293466e+03,\n",
              "        -1.00700649e+04, -6.55163565e+02,  9.92251562e+03, -7.95537611e+02,\n",
              "        -1.56936945e+03,  1.70493366e+03,  9.18425543e+03, -5.66021216e+03,\n",
              "         1.03684028e+04, -4.79363286e+02, -2.45925171e+03, -3.07618594e+03,\n",
              "         9.77237916e+02,  2.00967769e+03, -1.74680052e+03, -6.18463388e+02,\n",
              "        -1.08699590e+04,  1.35752024e+04,  2.34085119e+03, -2.56270817e+03,\n",
              "         6.08469224e+03, -2.98504866e+03, -2.88798183e+03,  1.13478079e+04,\n",
              "         6.41737446e+03,  8.92300753e+02,  4.81862907e+03, -5.31413249e+03,\n",
              "        -1.09135807e+04,  3.40332246e+03, -1.23588349e+03, -2.17473598e+02,\n",
              "        -5.36933860e+03,  1.04670927e+04, -2.41043170e+03, -1.28668905e+04,\n",
              "        -5.98053620e+03,  1.86392223e+04, -1.43129681e+04,  1.52296951e+03,\n",
              "         1.23491542e+04,  2.71430187e+02, -5.26286093e+02, -4.88515330e+03,\n",
              "        -5.84867244e+02,  1.97700059e+03, -7.24206201e+02, -1.21345160e+03,\n",
              "         1.35698101e+02,  3.17260722e+03, -2.95457898e+02, -5.02777402e+03,\n",
              "         2.76463998e+03,  6.95381936e+03,  8.39484512e+02,  8.39484512e+02,\n",
              "        -3.69211681e+03, -3.69211681e+03,  1.92658516e+01, -6.82480844e+03,\n",
              "        -8.83396985e+03]), 466.30167344161, 68883.28401161006)"
            ]
          },
          "metadata": {
            "tags": []
          },
          "execution_count": 32
        }
      ]
    },
    {
      "cell_type": "code",
      "metadata": {
        "id": "8AgLBgtJP-tT"
      },
      "source": [
        "# instead of the above arbitrarily defined grid, find a grid with the help of svd\r\n",
        "# from ols to ridge D**-1 is multiplied by (D**2+λ)**(-1) D**2 (1)\r\n",
        "# df of ols are 120 (with poly) -> find λ s.t. (1) = ~120/~0\r\n",
        "import scipy\r\n",
        "u,s,v = scipy.linalg.svd(X)"
      ],
      "execution_count": 33,
      "outputs": []
    },
    {
      "cell_type": "code",
      "metadata": {
        "id": "m-hIWkxZLSkN",
        "colab": {
          "base_uri": "https://localhost:8080/"
        },
        "outputId": "36b07939-ec39-4a38-b7e1-d11d94734458"
      },
      "source": [
        "sum(s**2/(s**2))"
      ],
      "execution_count": 34,
      "outputs": [
        {
          "output_type": "execute_result",
          "data": {
            "text/plain": [
              "109.0"
            ]
          },
          "metadata": {
            "tags": []
          },
          "execution_count": 34
        }
      ]
    },
    {
      "cell_type": "code",
      "metadata": {
        "id": "7DJ1rhkT8UDb"
      },
      "source": [
        "x1 = 1e-10\r\n",
        "x2 = 1_000_000"
      ],
      "execution_count": 62,
      "outputs": []
    },
    {
      "cell_type": "code",
      "metadata": {
        "id": "JTJdr-gL0TSn",
        "colab": {
          "base_uri": "https://localhost:8080/"
        },
        "outputId": "e2ecab5e-6719-4ee7-df64-dfdb4be77228"
      },
      "source": [
        "print(sum(s**2/(s**2+x1)),sum(s**2/(s**2+x2)))"
      ],
      "execution_count": 63,
      "outputs": [
        {
          "output_type": "stream",
          "text": [
            "87.99999995154401 1.8619259615164092\n"
          ],
          "name": "stdout"
        }
      ]
    },
    {
      "cell_type": "code",
      "metadata": {
        "id": "lS6VYsuxQ5hB"
      },
      "source": [
        "# define a new grid with above valuees\r\n",
        "new_grid = np.linspace(x1,x2,100)\r\n",
        "new_grid = 10**np.linspace(-10,6,100)"
      ],
      "execution_count": 64,
      "outputs": []
    },
    {
      "cell_type": "code",
      "metadata": {
        "id": "g80EfgO69nfm"
      },
      "source": [
        "new_grid = np.append(new_grid,result_self_coded[1])"
      ],
      "execution_count": 65,
      "outputs": []
    },
    {
      "cell_type": "code",
      "metadata": {
        "colab": {
          "base_uri": "https://localhost:8080/"
        },
        "id": "fhq6W50Rbiw3",
        "outputId": "f531a8b8-1a77-4e24-c5cb-f2a6aeed5685"
      },
      "source": [
        "ridge_self_coded(new_grid, X, y)"
      ],
      "execution_count": 66,
      "outputs": [
        {
          "output_type": "execute_result",
          "data": {
            "text/plain": [
              "(array([-2.13860617e+04, -1.59264425e+04, -4.59055066e+03, -4.90780267e+03,\n",
              "         1.91874117e+04,  4.73261512e+03,  4.97391006e+03,  1.73191239e+03,\n",
              "        -2.95457898e+02,  2.76463998e+03,  8.39484512e+02, -3.69211681e+03,\n",
              "         1.92658516e+01, -3.27139157e+03,  2.08141266e+04,  8.87514157e+03,\n",
              "         4.31663675e+03,  4.12319570e+03, -1.99675489e+04, -4.12663619e+03,\n",
              "        -4.57609627e+03, -1.76004685e+03,  1.39558148e+02, -1.87158892e+03,\n",
              "        -8.35477430e+02,  3.25835012e+03, -1.76078288e+03,  1.49330981e+03,\n",
              "        -1.67017568e+04, -1.16351397e+04, -4.43925998e+03,  1.44554491e+04,\n",
              "        -1.90419723e+02,  2.77527631e+02,  1.07265737e+03, -2.09408785e+03,\n",
              "         7.42055774e+02,  8.36120267e+02, -5.06506086e+03,  4.20223171e+03,\n",
              "         1.73511665e+03,  5.16679166e+03,  8.49320117e+03,  7.19937486e+03,\n",
              "         5.51126642e+03,  2.55550857e+04, -2.21778391e+03, -2.52293466e+03,\n",
              "        -1.00700649e+04, -6.55163565e+02,  9.92251562e+03, -7.95537611e+02,\n",
              "        -1.56936945e+03,  1.70493366e+03,  9.18425543e+03, -5.66021216e+03,\n",
              "         1.03684028e+04, -4.79363286e+02, -2.45925171e+03, -3.07618594e+03,\n",
              "         9.77237916e+02,  2.00967769e+03, -1.74680052e+03, -6.18463388e+02,\n",
              "        -1.08699590e+04,  1.35752024e+04,  2.34085119e+03, -2.56270817e+03,\n",
              "         6.08469224e+03, -2.98504866e+03, -2.88798183e+03,  1.13478079e+04,\n",
              "         6.41737446e+03,  8.92300753e+02,  4.81862907e+03, -5.31413249e+03,\n",
              "        -1.09135807e+04,  3.40332246e+03, -1.23588349e+03, -2.17473598e+02,\n",
              "        -5.36933860e+03,  1.04670927e+04, -2.41043170e+03, -1.28668905e+04,\n",
              "        -5.98053620e+03,  1.86392223e+04, -1.43129681e+04,  1.52296951e+03,\n",
              "         1.23491542e+04,  2.71430187e+02, -5.26286093e+02, -4.88515330e+03,\n",
              "        -5.84867244e+02,  1.97700059e+03, -7.24206201e+02, -1.21345160e+03,\n",
              "         1.35698101e+02,  3.17260722e+03, -2.95457898e+02, -5.02777402e+03,\n",
              "         2.76463998e+03,  6.95381936e+03,  8.39484512e+02,  8.39484512e+02,\n",
              "        -3.69211681e+03, -3.69211681e+03,  1.92658516e+01, -6.82480844e+03,\n",
              "        -8.83396985e+03]), 466.30167344161, 68883.28401161023)"
            ]
          },
          "metadata": {
            "tags": []
          },
          "execution_count": 66
        }
      ]
    },
    {
      "cell_type": "code",
      "metadata": {
        "colab": {
          "base_uri": "https://localhost:8080/"
        },
        "id": "GjNNdcTKc2UE",
        "outputId": "5277af0f-8208-4051-dc32-28ef854600d2"
      },
      "source": [
        "ridge_sklearn(new_grid, X, y)"
      ],
      "execution_count": 67,
      "outputs": [
        {
          "output_type": "stream",
          "text": [
            "/usr/local/lib/python3.6/dist-packages/sklearn/linear_model/_ridge.py:148: LinAlgWarning: Ill-conditioned matrix (rcond=1.25246e-17): result may not be accurate.\n",
            "  overwrite_a=True).T\n",
            "/usr/local/lib/python3.6/dist-packages/sklearn/linear_model/_ridge.py:148: LinAlgWarning: Ill-conditioned matrix (rcond=7.62281e-17): result may not be accurate.\n",
            "  overwrite_a=True).T\n",
            "/usr/local/lib/python3.6/dist-packages/sklearn/linear_model/_ridge.py:148: LinAlgWarning: Ill-conditioned matrix (rcond=6.83417e-17): result may not be accurate.\n",
            "  overwrite_a=True).T\n",
            "/usr/local/lib/python3.6/dist-packages/sklearn/linear_model/_ridge.py:148: LinAlgWarning: Ill-conditioned matrix (rcond=9.97722e-17): result may not be accurate.\n",
            "  overwrite_a=True).T\n",
            "/usr/local/lib/python3.6/dist-packages/sklearn/linear_model/_ridge.py:148: LinAlgWarning: Ill-conditioned matrix (rcond=1.02275e-16): result may not be accurate.\n",
            "  overwrite_a=True).T\n",
            "/usr/local/lib/python3.6/dist-packages/sklearn/linear_model/_ridge.py:148: LinAlgWarning: Ill-conditioned matrix (rcond=8.71799e-17): result may not be accurate.\n",
            "  overwrite_a=True).T\n",
            "/usr/local/lib/python3.6/dist-packages/sklearn/linear_model/_ridge.py:148: LinAlgWarning: Ill-conditioned matrix (rcond=9.81006e-17): result may not be accurate.\n",
            "  overwrite_a=True).T\n",
            "/usr/local/lib/python3.6/dist-packages/sklearn/linear_model/_ridge.py:148: LinAlgWarning: Ill-conditioned matrix (rcond=7.25045e-17): result may not be accurate.\n",
            "  overwrite_a=True).T\n",
            "/usr/local/lib/python3.6/dist-packages/sklearn/linear_model/_ridge.py:148: LinAlgWarning: Ill-conditioned matrix (rcond=5.57128e-17): result may not be accurate.\n",
            "  overwrite_a=True).T\n",
            "/usr/local/lib/python3.6/dist-packages/sklearn/linear_model/_ridge.py:148: LinAlgWarning: Ill-conditioned matrix (rcond=7.38469e-17): result may not be accurate.\n",
            "  overwrite_a=True).T\n",
            "/usr/local/lib/python3.6/dist-packages/sklearn/linear_model/_ridge.py:148: LinAlgWarning: Ill-conditioned matrix (rcond=5.86146e-17): result may not be accurate.\n",
            "  overwrite_a=True).T\n",
            "/usr/local/lib/python3.6/dist-packages/sklearn/linear_model/_ridge.py:148: LinAlgWarning: Ill-conditioned matrix (rcond=6.48817e-17): result may not be accurate.\n",
            "  overwrite_a=True).T\n"
          ],
          "name": "stderr"
        },
        {
          "output_type": "execute_result",
          "data": {
            "text/plain": [
              "(array([-2.13860617e+04, -1.59264425e+04, -4.59055066e+03, -4.90780267e+03,\n",
              "         1.91874117e+04,  4.73261512e+03,  4.97391006e+03,  1.73191239e+03,\n",
              "        -2.95457898e+02,  2.76463998e+03,  8.39484512e+02, -3.69211681e+03,\n",
              "         1.92658516e+01, -3.27139157e+03,  2.08141266e+04,  8.87514157e+03,\n",
              "         4.31663675e+03,  4.12319570e+03, -1.99675489e+04, -4.12663619e+03,\n",
              "        -4.57609627e+03, -1.76004685e+03,  1.39558148e+02, -1.87158892e+03,\n",
              "        -8.35477430e+02,  3.25835012e+03, -1.76078288e+03,  1.49330981e+03,\n",
              "        -1.67017568e+04, -1.16351397e+04, -4.43925998e+03,  1.44554491e+04,\n",
              "        -1.90419723e+02,  2.77527631e+02,  1.07265737e+03, -2.09408785e+03,\n",
              "         7.42055774e+02,  8.36120267e+02, -5.06506086e+03,  4.20223171e+03,\n",
              "         1.73511665e+03,  5.16679166e+03,  8.49320117e+03,  7.19937486e+03,\n",
              "         5.51126642e+03,  2.55550857e+04, -2.21778391e+03, -2.52293466e+03,\n",
              "        -1.00700649e+04, -6.55163565e+02,  9.92251562e+03, -7.95537611e+02,\n",
              "        -1.56936945e+03,  1.70493366e+03,  9.18425543e+03, -5.66021216e+03,\n",
              "         1.03684028e+04, -4.79363286e+02, -2.45925171e+03, -3.07618594e+03,\n",
              "         9.77237916e+02,  2.00967769e+03, -1.74680052e+03, -6.18463388e+02,\n",
              "        -1.08699590e+04,  1.35752024e+04,  2.34085119e+03, -2.56270817e+03,\n",
              "         6.08469224e+03, -2.98504866e+03, -2.88798183e+03,  1.13478079e+04,\n",
              "         6.41737446e+03,  8.92300753e+02,  4.81862907e+03, -5.31413249e+03,\n",
              "        -1.09135807e+04,  3.40332246e+03, -1.23588349e+03, -2.17473598e+02,\n",
              "        -5.36933860e+03,  1.04670927e+04, -2.41043170e+03, -1.28668905e+04,\n",
              "        -5.98053620e+03,  1.86392223e+04, -1.43129681e+04,  1.52296951e+03,\n",
              "         1.23491542e+04,  2.71430187e+02, -5.26286093e+02, -4.88515330e+03,\n",
              "        -5.84867244e+02,  1.97700059e+03, -7.24206201e+02, -1.21345160e+03,\n",
              "         1.35698101e+02,  3.17260722e+03, -2.95457898e+02, -5.02777402e+03,\n",
              "         2.76463998e+03,  6.95381936e+03,  8.39484512e+02,  8.39484512e+02,\n",
              "        -3.69211681e+03, -3.69211681e+03,  1.92658516e+01, -6.82480844e+03,\n",
              "        -8.83396985e+03]), 466.30167344161, 68883.28401161006)"
            ]
          },
          "metadata": {
            "tags": []
          },
          "execution_count": 67
        }
      ]
    },
    {
      "cell_type": "code",
      "metadata": {
        "id": "yzcA3LRp6Lx_"
      },
      "source": [
        ""
      ],
      "execution_count": null,
      "outputs": []
    }
  ]
}