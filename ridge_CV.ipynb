{
  "nbformat": 4,
  "nbformat_minor": 0,
  "metadata": {
    "colab": {
      "name": "ridge_CV.ipynb",
      "provenance": [],
      "collapsed_sections": [],
      "authorship_tag": "ABX9TyP9eTCtvfyt6TKQ6L2hXenj",
      "include_colab_link": true
    },
    "kernelspec": {
      "display_name": "Python 3",
      "name": "python3"
    }
  },
  "cells": [
    {
      "cell_type": "markdown",
      "metadata": {
        "id": "view-in-github",
        "colab_type": "text"
      },
      "source": [
        "<a href=\"https://colab.research.google.com/github/log-ghj/automatic-model-selection/blob/main/ridge_CV.ipynb\" target=\"_parent\"><img src=\"https://colab.research.google.com/assets/colab-badge.svg\" alt=\"Open In Colab\"/></a>"
      ]
    },
    {
      "cell_type": "code",
      "metadata": {
        "id": "VVI-JzXunKN8"
      },
      "source": [
        "import numpy as np\r\n",
        "import pandas as pd\r\n",
        "from statsmodels.tools.tools import add_constant\r\n",
        "from sklearn.linear_model import Ridge\r\n",
        "import scipy\r\n",
        "from sklearn.model_selection import cross_val_score\r\n",
        "from sklearn.metrics import mean_squared_error\r\n",
        "from sklearn.preprocessing import PolynomialFeatures"
      ],
      "execution_count": 32,
      "outputs": []
    },
    {
      "cell_type": "code",
      "metadata": {
        "id": "6l9mi1h0nPEB"
      },
      "source": [
        "#Read the data\r\n",
        "df = pd.read_csv('https://raw.githubusercontent.com/ageron/handson-ml/master/datasets/housing/housing.csv').dropna()\r\n",
        "\r\n",
        "#Convert number of rooms into per person values\r\n",
        "df[\"total_rooms_pp\"] = df[\"total_rooms\"]/df[\"population\"]\r\n",
        "df[\"total_bedrooms_pp\"] = df[\"total_bedrooms\"]/df[\"population\"]\r\n",
        "#Average hosuehold size\r\n",
        "df[\"household_size\"] = df[\"population\"]/df[\"households\"]\r\n",
        "#Drop some variables\r\n",
        "df=df.drop([\"total_rooms\", \"total_bedrooms\", \"households\"], axis=1)\r\n",
        "\r\n",
        "#Make the categorical variable into a set of dummies\r\n",
        "xx = pd.get_dummies(df.ocean_proximity)\r\n",
        "df = pd.concat([df, xx], axis=1, sort=False)\r\n",
        "del df[\"ocean_proximity\"]"
      ],
      "execution_count": 33,
      "outputs": []
    },
    {
      "cell_type": "code",
      "metadata": {
        "id": "KmsTIevG6xN1"
      },
      "source": [
        "#Cluster geolocations - determine the optimal number of clusters\r\n",
        "from sklearn import preprocessing, cluster\r\n",
        "X = df[[\"latitude\",\"longitude\"]]\r\n",
        "max_k = 10\r\n",
        "## iterations\r\n",
        "distortions = [] \r\n",
        "for i in range(1, max_k+1):\r\n",
        "    if len(X) >= i:\r\n",
        "       model = cluster.KMeans(n_clusters=i, init='k-means++', max_iter=300, n_init=10, random_state=0)\r\n",
        "       model.fit(X)\r\n",
        "       distortions.append(model.inertia_)\r\n",
        "## best k: the lowest derivative\r\n",
        "k = [i*100 for i in np.diff(distortions,2)].index(min([i*100 for i \r\n",
        "     in np.diff(distortions,2)]))"
      ],
      "execution_count": 35,
      "outputs": []
    },
    {
      "cell_type": "code",
      "metadata": {
        "colab": {
          "base_uri": "https://localhost:8080/"
        },
        "id": "_OZw09Xz6lnD",
        "outputId": "77a7a0fd-6651-4b25-87e7-894f31cb1cc5"
      },
      "source": [
        "#Cluster geolocations - create clusters\r\n",
        "import scipy.cluster\r\n",
        "k = 6\r\n",
        "model = cluster.KMeans(n_clusters=k, init='k-means++')\r\n",
        "X = df[[\"latitude\",\"longitude\"]]\r\n",
        "# clustering\r\n",
        "df_X = X.copy()\r\n",
        "df_X[\"cluster\"] = model.fit_predict(X)\r\n",
        "# find real centroids\r\n",
        "closest, distances = scipy.cluster.vq.vq(model.cluster_centers_, df_X.drop(\"cluster\", axis=1).values)\r\n",
        "df_X[\"centroids\"] = 0\r\n",
        "for i in closest:\r\n",
        "    df_X[\"centroids\"].iloc[i] = 1\r\n",
        "# add clustering info to the original dataset\r\n",
        "df[[\"cluster\"]] = df_X[[\"cluster\"]]"
      ],
      "execution_count": 36,
      "outputs": [
        {
          "output_type": "stream",
          "text": [
            "/usr/local/lib/python3.6/dist-packages/pandas/core/indexing.py:670: SettingWithCopyWarning: \n",
            "A value is trying to be set on a copy of a slice from a DataFrame\n",
            "\n",
            "See the caveats in the documentation: https://pandas.pydata.org/pandas-docs/stable/user_guide/indexing.html#returning-a-view-versus-a-copy\n",
            "  iloc._setitem_with_indexer(indexer, value)\n"
          ],
          "name": "stderr"
        }
      ]
    },
    {
      "cell_type": "code",
      "metadata": {
        "id": "N6AlG40707d8"
      },
      "source": [
        "from sklearn.base import BaseEstimator \r\n",
        "from sklearn.base import RegressorMixin"
      ],
      "execution_count": 37,
      "outputs": []
    },
    {
      "cell_type": "code",
      "metadata": {
        "id": "VjokN-kV087j"
      },
      "source": [
        "class self_coded_ridge(BaseEstimator, RegressorMixin):\r\n",
        "    def __init__(self, λ=1, **model_hyper_parameters):\r\n",
        "        \"\"\"\r\n",
        "        \"\"\"\r\n",
        "        super().__init__()\r\n",
        "        self.λ = λ\r\n",
        "        self.X_train = None\r\n",
        "        # fitted parameters, initialized to None\r\n",
        "        self.params = None\r\n",
        "\r\n",
        "    def set_params(self, **params):\r\n",
        "        \"\"\"\r\n",
        "        \"\"\"\r\n",
        "        if not params:\r\n",
        "            # Simple optimization to gain speed (inspect is slow)\r\n",
        "            return self\r\n",
        "        valid_params = self.get_params(deep=True)\r\n",
        "\r\n",
        "        nested_params = defaultdict(dict)  # grouped by prefix\r\n",
        "        for key, value in params.items():\r\n",
        "            key, delim, sub_key = key.partition('__')\r\n",
        "            if key not in valid_params:\r\n",
        "                raise ValueError('Invalid parameter %s for estimator %s. '\r\n",
        "                                 'Check the list of available parameters '\r\n",
        "                                 'with `estimator.get_params().keys()`.' %\r\n",
        "                                 (key, self))\r\n",
        "\r\n",
        "            if delim:\r\n",
        "                nested_params[key][sub_key] = value\r\n",
        "            else:\r\n",
        "                setattr(self, key, value)\r\n",
        "                valid_params[key] = value\r\n",
        "\r\n",
        "        for key, sub_params in nested_params.items():\r\n",
        "            valid_params[key].set_params(**sub_params)\r\n",
        "\r\n",
        "        return self\r\n",
        "\r\n",
        "    def fit(self, X_train, y_train):\r\n",
        "        \"\"\"\r\n",
        "        \"\"\"\r\n",
        "        X_train, y_train, λ = np.asarray(add_constant(X_train, prepend=True)), np.asarray(y_train), self.λ \r\n",
        "        self.X_train = X_train\r\n",
        "        XX = X_train.T@X_train\r\n",
        "        β = np.linalg.inv(XX+λ*np.eye(N=len(XX)))@X_train.T@y_train\r\n",
        "        self.params = β\r\n",
        "        return self.params\r\n",
        "\r\n",
        "    def predict(self, X_test):\r\n",
        "        β = self.params\r\n",
        "        return X_test@β\r\n",
        "\r\n",
        "    def get_params(self, deep = False):\r\n",
        "        return {'λ':self.λ}"
      ],
      "execution_count": 38,
      "outputs": []
    },
    {
      "cell_type": "code",
      "metadata": {
        "id": "U6vaVYmT5uNJ"
      },
      "source": [
        "# Define a function that does CV on a grid to find optimal value of the hyperparameter\r\n",
        "def ridge_self_coded(grid,X,y):\r\n",
        "  coefs = []\r\n",
        "  ics = []\r\n",
        "\r\n",
        "  for a in grid:\r\n",
        "    ridge = self_coded_ridge(a)\r\n",
        "    ridge.fit(X, y)\r\n",
        "    coefs.append(ridge.params)\r\n",
        "    k=10 #k-fold CV\r\n",
        "    scores = cross_val_score(ridge, X, y, cv=k, scoring='neg_mean_squared_error')\r\n",
        "    RMSE = np.sqrt(sum(abs(scores))/k)\r\n",
        "    ics.append(RMSE)\r\n",
        "  opt = ics.index(min(ics))\r\n",
        "  return coefs[opt], grid[opt], ics[opt]"
      ],
      "execution_count": 39,
      "outputs": []
    },
    {
      "cell_type": "code",
      "metadata": {
        "id": "3Y7cfxwA37av"
      },
      "source": [
        "# Create a similar function for the pre-existing sklearn ridge for comparison\r\n",
        "def ridge_sklearn(lambdas, X, y):\r\n",
        "  ridge = Ridge(fit_intercept=False, normalize=False) # do not use sklearn's normalization as it divides by L2 and not std.\r\n",
        "  coefs = []\r\n",
        "  ics = []\r\n",
        "\r\n",
        "  for a in lambdas:\r\n",
        "    ridge.set_params(alpha = a)\r\n",
        "    ridge.fit(X, y)\r\n",
        "    coefs.append(ridge.coef_)\r\n",
        "    k=10 #k-fold CV\r\n",
        "    scores = cross_val_score(ridge, X, y, cv=k, scoring='neg_mean_squared_error')\r\n",
        "    RMSE = np.sqrt(sum(abs(scores))/k)\r\n",
        "    ics.append(RMSE)\r\n",
        "  opt = ics.index(min(ics))\r\n",
        "  return coefs[opt], lambdas[opt], ics[opt]"
      ],
      "execution_count": 40,
      "outputs": []
    },
    {
      "cell_type": "code",
      "metadata": {
        "id": "07uWOJvO6qTZ"
      },
      "source": [
        "# create grid of lambdas\r\n",
        "# doing what is called naive implementation in the slides -> max value of grid chosen\r\n",
        "# efficient way is through SVD -> left to do\r\n",
        "grid = 10**np.linspace(4,-2,100)*0.5\r\n",
        "\r\n",
        "# split l.h.s, and r.h.s.\r\n",
        "X = df.drop(['median_house_value'], axis=1)\r\n",
        "y = df.median_house_value\r\n",
        "\r\n",
        "# normalize data\r\n",
        "X = (X-X.mean())/X.std()\r\n",
        "y = y-y.mean()\r\n",
        "\r\n",
        "poly = PolynomialFeatures(2)\r\n",
        "X = poly.fit_transform(X)"
      ],
      "execution_count": 41,
      "outputs": []
    },
    {
      "cell_type": "code",
      "metadata": {
        "colab": {
          "base_uri": "https://localhost:8080/"
        },
        "id": "v06GkpC66a-1",
        "outputId": "bd39886e-4337-4b6f-a882-9c7d7cd0ff16"
      },
      "source": [
        "X.shape"
      ],
      "execution_count": 42,
      "outputs": [
        {
          "output_type": "execute_result",
          "data": {
            "text/plain": [
              "(20433, 120)"
            ]
          },
          "metadata": {
            "tags": []
          },
          "execution_count": 42
        }
      ]
    },
    {
      "cell_type": "code",
      "metadata": {
        "colab": {
          "base_uri": "https://localhost:8080/"
        },
        "id": "61S1Ef4WjHIo",
        "outputId": "0e42f575-ab30-4c1c-e411-1b9e2ca35aae"
      },
      "source": [
        "result_self_coded = ridge_self_coded(grid, X, y)\r\n",
        "result_self_coded"
      ],
      "execution_count": 80,
      "outputs": [
        {
          "output_type": "execute_result",
          "data": {
            "text/plain": [
              "(array([ 1.16643471e+02, -2.25377765e+04, -1.39380622e+04,  1.01356498e+04,\n",
              "         6.62991990e+03,  6.21045182e+04,  2.04297949e+04,  3.54280839e+04,\n",
              "        -6.55345345e+03,  9.46657072e+03, -1.10463083e+04, -1.74364733e+00,\n",
              "        -5.34894835e+02,  1.82375774e+03, -1.20271363e+04, -1.94956260e+03,\n",
              "         8.19371655e+03, -6.40258893e+03,  2.32882051e+03, -8.56149870e+03,\n",
              "         2.72676580e+03, -3.50921189e+02, -3.78683228e+02,  2.95254676e+03,\n",
              "         1.32645617e+03,  5.65088844e+02, -7.11656959e+03,  4.28651781e+02,\n",
              "         1.47850511e+03, -7.17523807e+03, -9.78585762e+03,  2.81378014e+03,\n",
              "        -9.83186739e+03, -1.10620957e+03,  9.64596325e+02, -1.43944210e+03,\n",
              "         4.13364518e+03, -5.69603895e+02,  1.34290042e+02, -7.34585726e+03,\n",
              "         1.54924180e+03, -7.26968607e+03,  2.56416902e+03,  4.70814132e+03,\n",
              "         2.92833263e+03,  2.08148122e+02,  1.14584138e+04, -2.43175023e+03,\n",
              "        -1.81149901e+03, -1.15909864e+03, -7.11207120e+01,  4.58773760e+03,\n",
              "        -3.48213547e+00, -4.44053777e+02,  2.09538706e+02,  2.27693185e+03,\n",
              "        -1.82409845e+03,  5.38025013e+03,  5.67311254e+02, -2.46892393e+02,\n",
              "        -1.35756376e+03,  7.68946424e+02,  2.39765328e+03, -3.19594860e+01,\n",
              "         9.42652320e+01, -3.79439287e+03,  1.23199710e+04, -9.55632834e+03,\n",
              "        -2.56243857e+03,  3.13631588e+01, -2.61073991e+03, -3.17355044e+03,\n",
              "         3.25608887e+03,  6.76793527e+02,  3.10872673e+03,  2.80707361e+03,\n",
              "        -5.26221260e+03, -5.61566860e+03,  5.91459638e+02, -8.32446931e+02,\n",
              "        -6.55221861e+02, -3.63107263e+03,  3.71956157e+03, -1.25136888e+03,\n",
              "         2.09734901e+03, -5.90275565e+03,  8.92552568e+03, -1.42798911e+04,\n",
              "         5.65912046e+02,  8.53397485e+03, -1.41511236e+03, -1.10306178e+03,\n",
              "        -9.52823763e+01,  3.24786621e+02,  1.25447872e+02, -3.92809317e+01,\n",
              "         1.08695210e+03, -1.67479795e+03,  5.12149354e+03,  2.32281186e+03,\n",
              "         3.29992953e+03, -1.48171953e+02, -2.90711558e+03, -5.30026913e+03,\n",
              "        -3.74645529e+03, -8.52169992e+03,  1.72758453e+02,  4.24206132e+03,\n",
              "         2.96806869e+03,  2.17708818e+03,  5.21610049e+00,  8.33945912e+00,\n",
              "        -2.85629500e+01,  1.88079954e+02, -1.20726760e+03, -4.55074184e+02,\n",
              "         3.60479831e+03,  4.16294434e+03, -8.62995335e+02,  2.29743227e+04]),\n",
              " 814.8754173103217,\n",
              " 73526.7771946488)"
            ]
          },
          "metadata": {
            "tags": []
          },
          "execution_count": 80
        }
      ]
    },
    {
      "cell_type": "code",
      "metadata": {
        "id": "Pcdv15pa6s2g",
        "colab": {
          "base_uri": "https://localhost:8080/"
        },
        "outputId": "670bdb90-8662-42a2-93e7-c4bbab23a5f6"
      },
      "source": [
        "result_sklearn = ridge_sklearn(grid, X, y)\r\n",
        "result_sklearn"
      ],
      "execution_count": 82,
      "outputs": [
        {
          "output_type": "execute_result",
          "data": {
            "text/plain": [
              "(array([ 1.16643471e+02, -2.25377765e+04, -1.39380622e+04,  1.01356498e+04,\n",
              "         6.62991990e+03,  6.21045182e+04,  2.04297949e+04,  3.54280839e+04,\n",
              "        -6.55345345e+03,  9.46657072e+03, -1.10463083e+04, -1.74364733e+00,\n",
              "        -5.34894835e+02,  1.82375774e+03, -1.20271363e+04, -1.94956260e+03,\n",
              "         8.19371655e+03, -6.40258893e+03,  2.32882051e+03, -8.56149870e+03,\n",
              "         2.72676580e+03, -3.50921189e+02, -3.78683228e+02,  2.95254676e+03,\n",
              "         1.32645617e+03,  5.65088844e+02, -7.11656959e+03,  4.28651781e+02,\n",
              "         1.47850511e+03, -7.17523807e+03, -9.78585762e+03,  2.81378014e+03,\n",
              "        -9.83186739e+03, -1.10620957e+03,  9.64596325e+02, -1.43944210e+03,\n",
              "         4.13364518e+03, -5.69603895e+02,  1.34290042e+02, -7.34585726e+03,\n",
              "         1.54924180e+03, -7.26968607e+03,  2.56416902e+03,  4.70814132e+03,\n",
              "         2.92833263e+03,  2.08148122e+02,  1.14584138e+04, -2.43175023e+03,\n",
              "        -1.81149901e+03, -1.15909864e+03, -7.11207120e+01,  4.58773760e+03,\n",
              "        -3.48213547e+00, -4.44053777e+02,  2.09538706e+02,  2.27693185e+03,\n",
              "        -1.82409845e+03,  5.38025013e+03,  5.67311254e+02, -2.46892393e+02,\n",
              "        -1.35756376e+03,  7.68946424e+02,  2.39765328e+03, -3.19594860e+01,\n",
              "         9.42652320e+01, -3.79439287e+03,  1.23199710e+04, -9.55632834e+03,\n",
              "        -2.56243857e+03,  3.13631588e+01, -2.61073991e+03, -3.17355044e+03,\n",
              "         3.25608887e+03,  6.76793527e+02,  3.10872673e+03,  2.80707361e+03,\n",
              "        -5.26221260e+03, -5.61566860e+03,  5.91459638e+02, -8.32446931e+02,\n",
              "        -6.55221861e+02, -3.63107263e+03,  3.71956157e+03, -1.25136888e+03,\n",
              "         2.09734901e+03, -5.90275565e+03,  8.92552568e+03, -1.42798911e+04,\n",
              "         5.65912046e+02,  8.53397485e+03, -1.41511236e+03, -1.10306178e+03,\n",
              "        -9.52823763e+01,  3.24786621e+02,  1.25447872e+02, -3.92809317e+01,\n",
              "         1.08695210e+03, -1.67479795e+03,  5.12149354e+03,  2.32281186e+03,\n",
              "         3.29992953e+03, -1.48171953e+02, -2.90711558e+03, -5.30026913e+03,\n",
              "        -3.74645529e+03, -8.52169992e+03,  1.72758453e+02,  4.24206132e+03,\n",
              "         2.96806869e+03,  2.17708818e+03,  5.21610049e+00,  8.33945912e+00,\n",
              "        -2.85629500e+01,  1.88079954e+02, -1.20726760e+03, -4.55074184e+02,\n",
              "         3.60479831e+03,  4.16294434e+03, -8.62995335e+02,  2.29743227e+04]),\n",
              " 814.8754173103217,\n",
              " 73526.77719464804)"
            ]
          },
          "metadata": {
            "tags": []
          },
          "execution_count": 82
        }
      ]
    },
    {
      "cell_type": "code",
      "metadata": {
        "id": "8AgLBgtJP-tT"
      },
      "source": [
        "# instead of the above arbitrarily defined grid, find a grid with the help of svd\r\n",
        "# from ols to ridge D**-1 is multiplied by (D**2+λ)**(-1) D**2 (1)\r\n",
        "# df of ols are 120 (with poly) -> find λ s.t. (1) = ~120/~0\r\n",
        "import scipy\r\n",
        "u,s,v = scipy.linalg.svd(X)"
      ],
      "execution_count": 83,
      "outputs": []
    },
    {
      "cell_type": "code",
      "metadata": {
        "id": "m-hIWkxZLSkN",
        "colab": {
          "base_uri": "https://localhost:8080/"
        },
        "outputId": "45f6407f-f0fd-49f0-d986-4753549851d0"
      },
      "source": [
        "sum(s**2/(s**2))"
      ],
      "execution_count": 84,
      "outputs": [
        {
          "output_type": "execute_result",
          "data": {
            "text/plain": [
              "120.0"
            ]
          },
          "metadata": {
            "tags": []
          },
          "execution_count": 84
        }
      ]
    },
    {
      "cell_type": "code",
      "metadata": {
        "id": "7DJ1rhkT8UDb"
      },
      "source": [
        "x1 = 1e-30\r\n",
        "x2 = 1_000_000_000"
      ],
      "execution_count": 85,
      "outputs": []
    },
    {
      "cell_type": "code",
      "metadata": {
        "id": "JTJdr-gL0TSn",
        "colab": {
          "base_uri": "https://localhost:8080/"
        },
        "outputId": "eb27f36c-e58e-4730-86bc-97ad53868675"
      },
      "source": [
        "print(sum(s**2/(s**2+x1)),sum(s**2/(s**2+x2)))"
      ],
      "execution_count": 86,
      "outputs": [
        {
          "output_type": "stream",
          "text": [
            "119.99989752904895 0.29988341244594074\n"
          ],
          "name": "stdout"
        }
      ]
    },
    {
      "cell_type": "code",
      "metadata": {
        "id": "lS6VYsuxQ5hB"
      },
      "source": [
        "# define a new grid with above valuees\r\n",
        "new_grid = np.linspace(x1,x2,100)"
      ],
      "execution_count": 87,
      "outputs": []
    },
    {
      "cell_type": "code",
      "metadata": {
        "id": "g80EfgO69nfm"
      },
      "source": [
        "new_grid = np.append(new_grid,result_self_coded[1])"
      ],
      "execution_count": 94,
      "outputs": []
    },
    {
      "cell_type": "code",
      "metadata": {
        "colab": {
          "base_uri": "https://localhost:8080/"
        },
        "id": "fhq6W50Rbiw3",
        "outputId": "810aa913-2754-4d10-b796-bfd7d78e420f"
      },
      "source": [
        "ridge_self_coded(new_grid, X, y)"
      ],
      "execution_count": 95,
      "outputs": [
        {
          "output_type": "execute_result",
          "data": {
            "text/plain": [
              "(array([ 1.16643471e+02, -2.25377765e+04, -1.39380622e+04,  1.01356498e+04,\n",
              "         6.62991990e+03,  6.21045182e+04,  2.04297949e+04,  3.54280839e+04,\n",
              "        -6.55345345e+03,  9.46657072e+03, -1.10463083e+04, -1.74364733e+00,\n",
              "        -5.34894835e+02,  1.82375774e+03, -1.20271363e+04, -1.94956260e+03,\n",
              "         8.19371655e+03, -6.40258893e+03,  2.32882051e+03, -8.56149870e+03,\n",
              "         2.72676580e+03, -3.50921189e+02, -3.78683228e+02,  2.95254676e+03,\n",
              "         1.32645617e+03,  5.65088844e+02, -7.11656959e+03,  4.28651781e+02,\n",
              "         1.47850511e+03, -7.17523807e+03, -9.78585762e+03,  2.81378014e+03,\n",
              "        -9.83186739e+03, -1.10620957e+03,  9.64596325e+02, -1.43944210e+03,\n",
              "         4.13364518e+03, -5.69603895e+02,  1.34290042e+02, -7.34585726e+03,\n",
              "         1.54924180e+03, -7.26968607e+03,  2.56416902e+03,  4.70814132e+03,\n",
              "         2.92833263e+03,  2.08148122e+02,  1.14584138e+04, -2.43175023e+03,\n",
              "        -1.81149901e+03, -1.15909864e+03, -7.11207120e+01,  4.58773760e+03,\n",
              "        -3.48213547e+00, -4.44053777e+02,  2.09538706e+02,  2.27693185e+03,\n",
              "        -1.82409845e+03,  5.38025013e+03,  5.67311254e+02, -2.46892393e+02,\n",
              "        -1.35756376e+03,  7.68946424e+02,  2.39765328e+03, -3.19594860e+01,\n",
              "         9.42652320e+01, -3.79439287e+03,  1.23199710e+04, -9.55632834e+03,\n",
              "        -2.56243857e+03,  3.13631588e+01, -2.61073991e+03, -3.17355044e+03,\n",
              "         3.25608887e+03,  6.76793527e+02,  3.10872673e+03,  2.80707361e+03,\n",
              "        -5.26221260e+03, -5.61566860e+03,  5.91459638e+02, -8.32446931e+02,\n",
              "        -6.55221861e+02, -3.63107263e+03,  3.71956157e+03, -1.25136888e+03,\n",
              "         2.09734901e+03, -5.90275565e+03,  8.92552568e+03, -1.42798911e+04,\n",
              "         5.65912046e+02,  8.53397485e+03, -1.41511236e+03, -1.10306178e+03,\n",
              "        -9.52823763e+01,  3.24786621e+02,  1.25447872e+02, -3.92809317e+01,\n",
              "         1.08695210e+03, -1.67479795e+03,  5.12149354e+03,  2.32281186e+03,\n",
              "         3.29992953e+03, -1.48171953e+02, -2.90711558e+03, -5.30026913e+03,\n",
              "        -3.74645529e+03, -8.52169992e+03,  1.72758453e+02,  4.24206132e+03,\n",
              "         2.96806869e+03,  2.17708818e+03,  5.21610049e+00,  8.33945912e+00,\n",
              "        -2.85629500e+01,  1.88079954e+02, -1.20726760e+03, -4.55074184e+02,\n",
              "         3.60479831e+03,  4.16294434e+03, -8.62995335e+02,  2.29743227e+04]),\n",
              " 814.8754173103217,\n",
              " 73526.7771946488)"
            ]
          },
          "metadata": {
            "tags": []
          },
          "execution_count": 95
        }
      ]
    },
    {
      "cell_type": "code",
      "metadata": {
        "colab": {
          "base_uri": "https://localhost:8080/"
        },
        "id": "GjNNdcTKc2UE",
        "outputId": "ce59ec97-f7a0-4fac-ace6-f0a05773786b"
      },
      "source": [
        "ridge_sklearn(new_grid, X, y)"
      ],
      "execution_count": 96,
      "outputs": [
        {
          "output_type": "execute_result",
          "data": {
            "text/plain": [
              "(array([ 1.16643471e+02, -2.25377765e+04, -1.39380622e+04,  1.01356498e+04,\n",
              "         6.62991990e+03,  6.21045182e+04,  2.04297949e+04,  3.54280839e+04,\n",
              "        -6.55345345e+03,  9.46657072e+03, -1.10463083e+04, -1.74364733e+00,\n",
              "        -5.34894835e+02,  1.82375774e+03, -1.20271363e+04, -1.94956260e+03,\n",
              "         8.19371655e+03, -6.40258893e+03,  2.32882051e+03, -8.56149870e+03,\n",
              "         2.72676580e+03, -3.50921189e+02, -3.78683228e+02,  2.95254676e+03,\n",
              "         1.32645617e+03,  5.65088844e+02, -7.11656959e+03,  4.28651781e+02,\n",
              "         1.47850511e+03, -7.17523807e+03, -9.78585762e+03,  2.81378014e+03,\n",
              "        -9.83186739e+03, -1.10620957e+03,  9.64596325e+02, -1.43944210e+03,\n",
              "         4.13364518e+03, -5.69603895e+02,  1.34290042e+02, -7.34585726e+03,\n",
              "         1.54924180e+03, -7.26968607e+03,  2.56416902e+03,  4.70814132e+03,\n",
              "         2.92833263e+03,  2.08148122e+02,  1.14584138e+04, -2.43175023e+03,\n",
              "        -1.81149901e+03, -1.15909864e+03, -7.11207120e+01,  4.58773760e+03,\n",
              "        -3.48213547e+00, -4.44053777e+02,  2.09538706e+02,  2.27693185e+03,\n",
              "        -1.82409845e+03,  5.38025013e+03,  5.67311254e+02, -2.46892393e+02,\n",
              "        -1.35756376e+03,  7.68946424e+02,  2.39765328e+03, -3.19594860e+01,\n",
              "         9.42652320e+01, -3.79439287e+03,  1.23199710e+04, -9.55632834e+03,\n",
              "        -2.56243857e+03,  3.13631588e+01, -2.61073991e+03, -3.17355044e+03,\n",
              "         3.25608887e+03,  6.76793527e+02,  3.10872673e+03,  2.80707361e+03,\n",
              "        -5.26221260e+03, -5.61566860e+03,  5.91459638e+02, -8.32446931e+02,\n",
              "        -6.55221861e+02, -3.63107263e+03,  3.71956157e+03, -1.25136888e+03,\n",
              "         2.09734901e+03, -5.90275565e+03,  8.92552568e+03, -1.42798911e+04,\n",
              "         5.65912046e+02,  8.53397485e+03, -1.41511236e+03, -1.10306178e+03,\n",
              "        -9.52823763e+01,  3.24786621e+02,  1.25447872e+02, -3.92809317e+01,\n",
              "         1.08695210e+03, -1.67479795e+03,  5.12149354e+03,  2.32281186e+03,\n",
              "         3.29992953e+03, -1.48171953e+02, -2.90711558e+03, -5.30026913e+03,\n",
              "        -3.74645529e+03, -8.52169992e+03,  1.72758453e+02,  4.24206132e+03,\n",
              "         2.96806869e+03,  2.17708818e+03,  5.21610049e+00,  8.33945912e+00,\n",
              "        -2.85629500e+01,  1.88079954e+02, -1.20726760e+03, -4.55074184e+02,\n",
              "         3.60479831e+03,  4.16294434e+03, -8.62995335e+02,  2.29743227e+04]),\n",
              " 814.8754173103217,\n",
              " 73526.77719464804)"
            ]
          },
          "metadata": {
            "tags": []
          },
          "execution_count": 96
        }
      ]
    },
    {
      "cell_type": "code",
      "metadata": {
        "id": "yzcA3LRp6Lx_"
      },
      "source": [
        ""
      ],
      "execution_count": null,
      "outputs": []
    }
  ]
}