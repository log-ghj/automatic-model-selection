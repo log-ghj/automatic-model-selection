{
  "nbformat": 4,
  "nbformat_minor": 0,
  "metadata": {
    "colab": {
      "name": "ridge_regression.ipynb",
      "provenance": [],
      "include_colab_link": true
    },
    "kernelspec": {
      "name": "python3",
      "display_name": "Python 3"
    }
  },
  "cells": [
    {
      "cell_type": "markdown",
      "metadata": {
        "id": "view-in-github",
        "colab_type": "text"
      },
      "source": [
        "<a href=\"https://colab.research.google.com/github/log-ghj/automatic-model-selection/blob/main/ridge_regression.ipynb\" target=\"_parent\"><img src=\"https://colab.research.google.com/assets/colab-badge.svg\" alt=\"Open In Colab\"/></a>"
      ]
    },
    {
      "cell_type": "markdown",
      "metadata": {
        "id": "GYYpuVR3fz4t"
      },
      "source": [
        "Self-coded ridge ression for the project in the course \"Automatic Model Selection\"."
      ]
    },
    {
      "cell_type": "code",
      "metadata": {
        "colab": {
          "base_uri": "https://localhost:8080/"
        },
        "id": "q_Fi_aoASBjy",
        "outputId": "563101fd-91ce-441f-ac2d-026d8a9a3972"
      },
      "source": [
        "# Some imports\n",
        "import numpy as np\n",
        "import pandas as pd\n",
        "from statsmodels.tools.tools import add_constant\n",
        "from sklearn.linear_model import Ridge"
      ],
      "execution_count": null,
      "outputs": [
        {
          "output_type": "stream",
          "text": [
            "/usr/local/lib/python3.6/dist-packages/statsmodels/tools/_testing.py:19: FutureWarning: pandas.util.testing is deprecated. Use the functions in the public API at pandas.testing instead.\n",
            "  import pandas.util.testing as tm\n"
          ],
          "name": "stderr"
        }
      ]
    },
    {
      "cell_type": "code",
      "metadata": {
        "id": "B77E9tekSwtU"
      },
      "source": [
        "# Read the data\n",
        "df = pd.read_csv('https://raw.githubusercontent.com/ageron/handson-ml/master/datasets/housing/housing.csv').dropna()\n",
        "\n",
        "# Convert number of rooms into per person values\n",
        "df[\"total_rooms_pp\"] = df[\"total_rooms\"]/df[\"population\"]\n",
        "df[\"total_bedrooms_pp\"] = df[\"total_bedrooms\"]/df[\"population\"]\n",
        "# Average hosuehold size\n",
        "df[\"household_size\"] = df[\"population\"]/df[\"households\"]\n",
        "# Drop some variables\n",
        "df=df.drop([\"total_rooms\", \"total_bedrooms\", \"households\"], axis=1)\n",
        "\n",
        "# Make the categorical variable into a set of dummies\n",
        "xx = pd.get_dummies(df.ocean_proximity)\n",
        "df = pd.concat([df, xx], axis=1, sort=False)\n",
        "del df[\"ocean_proximity\"]"
      ],
      "execution_count": null,
      "outputs": []
    },
    {
      "cell_type": "code",
      "metadata": {
        "id": "TmObj4KDSIFo"
      },
      "source": [
        "# ridge formula as result of minimization\n",
        "def ridge(lambdas, X, y):\n",
        "  # containers for results\n",
        "  coefs = []\n",
        "  ics = []\n",
        "  \n",
        "  # matrix mulitpliation to increase readablity\n",
        "  X_m = np.asarray(add_constant(X, prepend=True))   # prepend intercept\n",
        "  XX = X_m.T@X_m\n",
        "\n",
        "  for λ in lambdas:\n",
        "    β = np.linalg.inv(XX+λ*np.eye(N=len(XX)))@X_m.T@y   # formula of slide 62\n",
        "    coefs.append(β)\n",
        "    y_hat = X_m@β\n",
        "    ics.append(aic(y, y_hat, k = len(β)))\n",
        "\n",
        "  opt = ics.index(min(ics))\n",
        "  return coefs[opt], lambdas[opt], ics[opt]\n",
        "\n",
        "\n",
        "# ridge as data augmentation\n",
        "def ridge_augmented(lambdas, X, y):\n",
        "  # containers for results\n",
        "  coefs = []\n",
        "  ics = []\n",
        "\n",
        "  # augment data (that does not include lambda)\n",
        "  X_m = np.asarray(add_constant(X, prepend=True))\n",
        "  y_m = np.asarray(y)\n",
        "  y_cont = np.zeros(len(X.columns)+1)\n",
        "  y_aug = np.r_[y_m,y_cont]\n",
        "\n",
        "  for λ in lambdas:\n",
        "    # augment X (including lamvda in loop)\n",
        "    X_cont = np.sqrt(λ)*np.eye(len(X.columns)+1)\n",
        "    X_aug = np.r_[X_m,X_cont]\n",
        "\n",
        "    # matrix multiplication to increase readability\n",
        "    XX = X_aug.T@X_aug\n",
        "    β = np.linalg.inv(XX)@X_aug.T@y_aug\n",
        "    \n",
        "    # save results\n",
        "    coefs.append(β)\n",
        "    y_hat = X_aug@β\n",
        "    ics.append(aic(y_aug, y_hat, k = len(β)))\n",
        "\n",
        "  # return optimal results\n",
        "  opt = ics.index(min(ics))\n",
        "  return coefs[opt], lambdas[opt], ics[opt]\n",
        "\n",
        "#sklearn ridge\n",
        "def ridge_sklearn(lambdas, X, y):\n",
        "  ridge = Ridge(fit_intercept=True, normalize=False)\n",
        "  coefs = []\n",
        "  intercepts = []\n",
        "  ics = []\n",
        "  k = len(X.columns)+1        # number of variables + constant\n",
        "\n",
        "  for a in lambdas:\n",
        "    ridge.set_params(alpha = a)\n",
        "    ridge.fit(X, y)\n",
        "    y_pred = ridge.predict(X)\n",
        "    coefs.append(ridge.coef_)\n",
        "    intercepts.append(ridge.intercept_)\n",
        "    ics.append(aic(y, y_pred, k))\n",
        "  opt = ics.index(min(ics))\n",
        "  return np.r_[intercepts[opt], coefs[opt]], lambdas[opt], ics[opt]\n",
        "\n",
        "# create AIC function\n",
        "def aic(y, y_pred, k):\n",
        "  resid = y - y_pred\n",
        "  sse = sum(resid ** 2)\n",
        "  AIC = 2*k - 2*np.log(sse)\n",
        "  return AIC"
      ],
      "execution_count": null,
      "outputs": []
    },
    {
      "cell_type": "code",
      "metadata": {
        "id": "hVgllh5gS-To"
      },
      "source": [
        "# create grid of lambdas\n",
        "grid = 10**np.linspace(4,-2,100)*0.5\n",
        "\n",
        "# split l.h.s, and r.h.s.\n",
        "X = df.drop(['median_house_value'], axis=1)\n",
        "y = df.median_house_value\n",
        "\n",
        "# normalize data\n",
        "X = (X-X.mean())/X.std()\n",
        "y = y-y.mean()"
      ],
      "execution_count": null,
      "outputs": []
    },
    {
      "cell_type": "code",
      "metadata": {
        "colab": {
          "base_uri": "https://localhost:8080/"
        },
        "id": "JUDJ0UkBTB2O",
        "outputId": "f6d95b99-255d-4515-f029-37a487e7bb0f"
      },
      "source": [
        "ridge(grid, X, y)"
      ],
      "execution_count": null,
      "outputs": [
        {
          "output_type": "execute_result",
          "data": {
            "text/plain": [
              "(array([-1.14841949e-08, -1.04033798e+04, -1.01380183e+04,  9.07181126e+03,\n",
              "         8.73600349e+02,  5.62527994e+04,  8.82531904e+03,  5.36316283e+03,\n",
              "        -2.10251993e+03,  9.87374760e+03, -2.28087267e+04,  2.31622020e+03,\n",
              "         8.15517713e+03,  9.31551562e+03]), 5000.0, -36.63898218651468)"
            ]
          },
          "metadata": {
            "tags": []
          },
          "execution_count": 5
        }
      ]
    },
    {
      "cell_type": "code",
      "metadata": {
        "colab": {
          "base_uri": "https://localhost:8080/"
        },
        "id": "AL8AhP3-TCNx",
        "outputId": "a6578c22-5c93-4cc9-b441-884f18936647"
      },
      "source": [
        "ridge_augmented(grid, X, y)"
      ],
      "execution_count": null,
      "outputs": [
        {
          "output_type": "execute_result",
          "data": {
            "text/plain": [
              "(array([-1.14841896e-08, -1.04033798e+04, -1.01380183e+04,  9.07181126e+03,\n",
              "         8.73600349e+02,  5.62527994e+04,  8.82531904e+03,  5.36316283e+03,\n",
              "        -2.10251993e+03,  9.87374760e+03, -2.28087267e+04,  2.31622020e+03,\n",
              "         8.15517713e+03,  9.31551562e+03]), 5000.0, -37.00350473739984)"
            ]
          },
          "metadata": {
            "tags": []
          },
          "execution_count": 6
        }
      ]
    },
    {
      "cell_type": "code",
      "metadata": {
        "colab": {
          "base_uri": "https://localhost:8080/"
        },
        "id": "XHXIQvrXTD2o",
        "outputId": "53b91011-b557-406a-ec75-5dc4b9d05700"
      },
      "source": [
        "ridge_sklearn(grid, X, y)"
      ],
      "execution_count": null,
      "outputs": [
        {
          "output_type": "execute_result",
          "data": {
            "text/plain": [
              "(array([-1.43114874e-08, -1.04033798e+04, -1.01380183e+04,  9.07181126e+03,\n",
              "         8.73600349e+02,  5.62527994e+04,  8.82531904e+03,  5.36316283e+03,\n",
              "        -2.10251993e+03,  9.87374760e+03, -2.28087267e+04,  2.31622020e+03,\n",
              "         8.15517713e+03,  9.31551562e+03]), 5000.0, -36.63898218651468)"
            ]
          },
          "metadata": {
            "tags": []
          },
          "execution_count": 7
        }
      ]
    }
  ]
}